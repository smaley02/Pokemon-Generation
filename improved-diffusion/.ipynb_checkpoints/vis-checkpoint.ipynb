{
 "cells": [
  {
   "cell_type": "code",
   "execution_count": 1,
   "id": "7e3c2596-5956-4400-a7d6-9e4bdcdc118f",
   "metadata": {
    "tags": []
   },
   "outputs": [],
   "source": [
    "import numpy as np"
   ]
  },
  {
   "cell_type": "code",
   "execution_count": 5,
   "id": "d8b521bd-d90e-46b8-bc37-026d98cf4b2f",
   "metadata": {
    "tags": []
   },
   "outputs": [],
   "source": [
    "iteration = \"920000\"\n",
    "samples = 64\n",
    "directory = f\"log_{iteration}\""
   ]
  },
  {
   "cell_type": "code",
   "execution_count": 6,
   "id": "4ef352fa-9d17-426c-8f6c-2a6aa594d9d5",
   "metadata": {
    "tags": []
   },
   "outputs": [],
   "source": [
    "npz_data = np.load(f'log_256/{directory}/samples_{str(samples)}x256x256x3.npz')"
   ]
  },
  {
   "cell_type": "code",
   "execution_count": 7,
   "id": "ab8ea072-7414-464f-ab32-51c696081688",
   "metadata": {
    "tags": []
   },
   "outputs": [],
   "source": [
    "image_data = npz_data[\"arr_0\"]"
   ]
  },
  {
   "cell_type": "code",
   "execution_count": 8,
   "id": "c3ad4c92-5fe3-4c50-bed2-c1e410db6f94",
   "metadata": {
    "tags": []
   },
   "outputs": [
    {
     "data": {
      "text/plain": [
       "(64, 256, 256, 3)"
      ]
     },
     "execution_count": 8,
     "metadata": {},
     "output_type": "execute_result"
    }
   ],
   "source": [
    "image_data.shape"
   ]
  },
  {
   "cell_type": "code",
   "execution_count": 9,
   "id": "cceae7f4-09c8-49dc-9311-a2be52dbb4f1",
   "metadata": {
    "tags": []
   },
   "outputs": [
    {
     "name": "stdout",
     "output_type": "stream",
     "text": [
      "saved 65 samples\n"
     ]
    }
   ],
   "source": [
    "from PIL import Image\n",
    "ind = 0\n",
    "for np_arr in image_data:\n",
    "    image = Image.fromarray(np_arr)\n",
    "    path = f\"log_256/{directory}/images/sample_{ind}_690000.png\"\n",
    "    image.save(path)\n",
    "    ind += 1\n",
    "print(f\"saved {ind+1} samples\")"
   ]
  },
  {
   "cell_type": "code",
   "execution_count": 11,
   "id": "722b4d16-d13e-4cd6-82d5-76c54e670058",
   "metadata": {
    "tags": []
   },
   "outputs": [],
   "source": [
    "def create_collage(width, height, listofimages):\n",
    "    cols = 8\n",
    "    rows = 8\n",
    "    if samples == 32:\n",
    "        cols = 5\n",
    "        rows = 5\n",
    "    thumbnail_width = width//cols\n",
    "    thumbnail_height = height//rows\n",
    "    size = thumbnail_width, thumbnail_height\n",
    "    new_im = Image.new('RGB', (width, height))\n",
    "    ims = []\n",
    "    for p in listofimages:\n",
    "        im = Image.open(p)\n",
    "        im.thumbnail(size)\n",
    "        ims.append(im)\n",
    "    i = 0\n",
    "    x = 0\n",
    "    y = 0\n",
    "    for col in range(cols):\n",
    "        for row in range(rows):\n",
    "            print(i, x, y)\n",
    "            new_im.paste(ims[i], (x, y))\n",
    "            i += 1\n",
    "            y += thumbnail_height\n",
    "        x += thumbnail_width\n",
    "        y = 0\n",
    "\n",
    "    new_im.save(f\"256_{str(samples)}_{iteration}.jpg\")"
   ]
  },
  {
   "cell_type": "code",
   "execution_count": 12,
   "id": "c2e023c8-adf1-4582-8b83-e33cc29ee6ef",
   "metadata": {
    "tags": []
   },
   "outputs": [],
   "source": [
    "import os\n",
    "\n",
    "directory_path = f\"log_256/{directory}/images\"\n",
    "image_list = []\n",
    "\n",
    "for filename in os.listdir(directory_path):\n",
    "    file_path = os.path.join(directory_path, filename)\n",
    "    if os.path.isfile(file_path):\n",
    "        image_list.append(f\"{directory_path}/{filename}\")"
   ]
  },
  {
   "cell_type": "code",
   "execution_count": 13,
   "id": "8b6f4590-892f-4518-b0f2-341c9c75a75e",
   "metadata": {
    "tags": []
   },
   "outputs": [
    {
     "name": "stdout",
     "output_type": "stream",
     "text": [
      "0 0 0\n",
      "1 0 256\n",
      "2 0 512\n",
      "3 0 768\n",
      "4 0 1024\n",
      "5 0 1280\n",
      "6 0 1536\n",
      "7 0 1792\n",
      "8 256 0\n",
      "9 256 256\n",
      "10 256 512\n",
      "11 256 768\n",
      "12 256 1024\n",
      "13 256 1280\n",
      "14 256 1536\n",
      "15 256 1792\n",
      "16 512 0\n",
      "17 512 256\n",
      "18 512 512\n",
      "19 512 768\n",
      "20 512 1024\n",
      "21 512 1280\n",
      "22 512 1536\n",
      "23 512 1792\n",
      "24 768 0\n",
      "25 768 256\n",
      "26 768 512\n",
      "27 768 768\n",
      "28 768 1024\n",
      "29 768 1280\n",
      "30 768 1536\n",
      "31 768 1792\n",
      "32 1024 0\n",
      "33 1024 256\n",
      "34 1024 512\n",
      "35 1024 768\n",
      "36 1024 1024\n",
      "37 1024 1280\n",
      "38 1024 1536\n",
      "39 1024 1792\n",
      "40 1280 0\n",
      "41 1280 256\n",
      "42 1280 512\n",
      "43 1280 768\n",
      "44 1280 1024\n",
      "45 1280 1280\n",
      "46 1280 1536\n",
      "47 1280 1792\n",
      "48 1536 0\n",
      "49 1536 256\n",
      "50 1536 512\n",
      "51 1536 768\n",
      "52 1536 1024\n",
      "53 1536 1280\n",
      "54 1536 1536\n",
      "55 1536 1792\n",
      "56 1792 0\n",
      "57 1792 256\n",
      "58 1792 512\n",
      "59 1792 768\n",
      "60 1792 1024\n",
      "61 1792 1280\n",
      "62 1792 1536\n",
      "63 1792 1792\n"
     ]
    }
   ],
   "source": [
    "create_collage(2048, 2048, image_list)"
   ]
  },
  {
   "cell_type": "code",
   "execution_count": null,
   "id": "c2901ceb-50b9-4c00-8a03-7f1f57a76491",
   "metadata": {},
   "outputs": [],
   "source": []
  },
  {
   "cell_type": "code",
   "execution_count": null,
   "id": "ab0e1d4e-e90a-4c07-a58b-f65488a42101",
   "metadata": {},
   "outputs": [],
   "source": []
  }
 ],
 "metadata": {
  "kernelspec": {
   "display_name": "improved-diffusion",
   "language": "python",
   "name": "improved-diffusion"
  },
  "language_info": {
   "codemirror_mode": {
    "name": "ipython",
    "version": 3
   },
   "file_extension": ".py",
   "mimetype": "text/x-python",
   "name": "python",
   "nbconvert_exporter": "python",
   "pygments_lexer": "ipython3",
   "version": "3.11.10"
  }
 },
 "nbformat": 4,
 "nbformat_minor": 5
}
