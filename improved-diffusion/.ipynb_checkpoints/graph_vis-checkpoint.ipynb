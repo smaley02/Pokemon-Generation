{
 "cells": [
  {
   "cell_type": "code",
   "execution_count": 1,
   "id": "b9b03b1f-cd14-4ee2-8d7b-46c9dc3df673",
   "metadata": {
    "tags": []
   },
   "outputs": [],
   "source": [
    "import matplotlib as plt\n",
    "import os"
   ]
  },
  {
   "cell_type": "code",
   "execution_count": null,
   "id": "1c12ed98-50b9-4cab-819a-484261030838",
   "metadata": {},
   "outputs": [],
   "source": [
    "log_one = \"blue/rcstudents/smaley/pokegan/improved-diffusion/pokegan-diffusion-256-50417642.txt\"\n",
    "log_two = \"blue/rcstudents/smaley/pokegan/improved-diffusion/pokegan-diffusion-256-51265180.txt\"\n",
    "log_three = \"blue/rcstudents/smaley/pokegan/improved-diffusion/pokegan-diffusion-256-52284282.txt\""
   ]
  }
 ],
 "metadata": {
  "kernelspec": {
   "display_name": "Python 3 (ipykernel)",
   "language": "python",
   "name": "python3"
  },
  "language_info": {
   "codemirror_mode": {
    "name": "ipython",
    "version": 3
   },
   "file_extension": ".py",
   "mimetype": "text/x-python",
   "name": "python",
   "nbconvert_exporter": "python",
   "pygments_lexer": "ipython3",
   "version": "3.10.12"
  }
 },
 "nbformat": 4,
 "nbformat_minor": 5
}
