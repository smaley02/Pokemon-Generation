{
 "cells": [
  {
   "cell_type": "code",
   "execution_count": 2,
   "id": "21b4d71a-29b3-46c8-b938-5c33c97ba327",
   "metadata": {
    "tags": []
   },
   "outputs": [],
   "source": [
    "SAMPLES_PATH = \"/blue/rcstudents/smaley/pokegan/improved-diffusion/log_256/images\"\n",
    "NAMES_PATH = \"/blue/rcstudents/smaley/pokegan/name-generation/pokemon-name-generator/output/generated_names.txt\""
   ]
  },
  {
   "cell_type": "code",
   "execution_count": 3,
   "id": "de86a7a6-e2f2-4604-a326-4877302628dc",
   "metadata": {
    "tags": []
   },
   "outputs": [],
   "source": [
    "import time\n",
    "timestr = time.strftime(\"%Y%m%d-%H%M%S\")\n",
    "\n",
    "GRID_SIZE = 30  # 8x8 grid, limited to 8 * 8 = 64 images\n",
    "OUTPUT_FILE = f\"predictions_{timestr}.png\"  # Output file name\n",
    "OUTPUT_SIZE = (256,256,3)\n",
    "INPUT_SIZE = (64,64,3)"
   ]
  },
  {
   "cell_type": "code",
   "execution_count": 4,
   "id": "7158d874-f70a-4240-878b-c55bc075ba57",
   "metadata": {
    "tags": []
   },
   "outputs": [],
   "source": [
    "TYPE_PREDICTION_MODEL_PATH = \"/blue/rcstudents/smaley/pokegan/type-prediction/64_50_epoch.keras\""
   ]
  },
  {
   "cell_type": "markdown",
   "id": "a4d4161e-55fd-4a8c-b175-92041f2d2700",
   "metadata": {},
   "source": [
    "I used the following training parameters for my sampling.\n",
    "Image sampling takes a long time, so this is all done ahead of time.\n",
    "```bash\n",
    "cd improved-diffusion\n",
    "export OPENAI_LOGDIR=\"log_256\" \n",
    "python scripts/image_sample.py --model_path /blue/rcstudents/smaley/pokegan/improved-diffusion/log_256/model_ckpts/ema_0.9999_990000.pt --image_size 256 --num_channels 128 --num_res_blocks 3 --diffusion_steps 4000 --noise_schedule linear --use_ddim True --num_samples 64\n",
    "```"
   ]
  },
  {
   "cell_type": "code",
   "execution_count": 5,
   "id": "70693243-18c2-41c7-9253-1c65e36a11c0",
   "metadata": {
    "tags": []
   },
   "outputs": [
    {
     "ename": "ImportError",
     "evalue": "Matplotlib requires numpy>=1.23; you have 1.19.5",
     "output_type": "error",
     "traceback": [
      "\u001b[0;31m---------------------------------------------------------------------------\u001b[0m",
      "\u001b[0;31mImportError\u001b[0m                               Traceback (most recent call last)",
      "Input \u001b[0;32mIn [5]\u001b[0m, in \u001b[0;36m<cell line: 9>\u001b[0;34m()\u001b[0m\n\u001b[1;32m      7\u001b[0m \u001b[38;5;28;01mimport\u001b[39;00m \u001b[38;5;21;01mnumpy\u001b[39;00m \u001b[38;5;28;01mas\u001b[39;00m \u001b[38;5;21;01mnp\u001b[39;00m\n\u001b[1;32m      8\u001b[0m \u001b[38;5;28;01mimport\u001b[39;00m \u001b[38;5;21;01mpandas\u001b[39;00m \u001b[38;5;28;01mas\u001b[39;00m \u001b[38;5;21;01mpd\u001b[39;00m\n\u001b[0;32m----> 9\u001b[0m \u001b[38;5;28;01mimport\u001b[39;00m \u001b[38;5;21;01mmatplotlib\u001b[39;00m\u001b[38;5;21;01m.\u001b[39;00m\u001b[38;5;21;01mpyplot\u001b[39;00m \u001b[38;5;28;01mas\u001b[39;00m \u001b[38;5;21;01mplt\u001b[39;00m\n\u001b[1;32m     10\u001b[0m \u001b[38;5;28;01mfrom\u001b[39;00m \u001b[38;5;21;01msklearn\u001b[39;00m\u001b[38;5;21;01m.\u001b[39;00m\u001b[38;5;21;01mmodel_selection\u001b[39;00m \u001b[38;5;28;01mimport\u001b[39;00m train_test_split\n\u001b[1;32m     11\u001b[0m \u001b[38;5;28;01mfrom\u001b[39;00m \u001b[38;5;21;01mtqdm\u001b[39;00m \u001b[38;5;28;01mimport\u001b[39;00m tqdm\n",
      "File \u001b[0;32m~/.local/lib/python3.9/site-packages/matplotlib/__init__.py:263\u001b[0m, in \u001b[0;36m<module>\u001b[0;34m\u001b[0m\n\u001b[1;32m    258\u001b[0m         \u001b[38;5;28;01mif\u001b[39;00m parse_version(module\u001b[38;5;241m.\u001b[39m__version__) \u001b[38;5;241m<\u001b[39m parse_version(minver):\n\u001b[1;32m    259\u001b[0m             \u001b[38;5;28;01mraise\u001b[39;00m \u001b[38;5;167;01mImportError\u001b[39;00m(\u001b[38;5;124mf\u001b[39m\u001b[38;5;124m\"\u001b[39m\u001b[38;5;124mMatplotlib requires \u001b[39m\u001b[38;5;132;01m{\u001b[39;00mmodname\u001b[38;5;132;01m}\u001b[39;00m\u001b[38;5;124m>=\u001b[39m\u001b[38;5;132;01m{\u001b[39;00mminver\u001b[38;5;132;01m}\u001b[39;00m\u001b[38;5;124m; \u001b[39m\u001b[38;5;124m\"\u001b[39m\n\u001b[1;32m    260\u001b[0m                               \u001b[38;5;124mf\u001b[39m\u001b[38;5;124m\"\u001b[39m\u001b[38;5;124myou have \u001b[39m\u001b[38;5;132;01m{\u001b[39;00mmodule\u001b[38;5;241m.\u001b[39m__version__\u001b[38;5;132;01m}\u001b[39;00m\u001b[38;5;124m\"\u001b[39m)\n\u001b[0;32m--> 263\u001b[0m \u001b[43m_check_versions\u001b[49m\u001b[43m(\u001b[49m\u001b[43m)\u001b[49m\n\u001b[1;32m    266\u001b[0m \u001b[38;5;66;03m# The decorator ensures this always returns the same handler (and it is only\u001b[39;00m\n\u001b[1;32m    267\u001b[0m \u001b[38;5;66;03m# attached once).\u001b[39;00m\n\u001b[1;32m    268\u001b[0m \u001b[38;5;129m@functools\u001b[39m\u001b[38;5;241m.\u001b[39mcache\n\u001b[1;32m    269\u001b[0m \u001b[38;5;28;01mdef\u001b[39;00m \u001b[38;5;21m_ensure_handler\u001b[39m():\n",
      "File \u001b[0;32m~/.local/lib/python3.9/site-packages/matplotlib/__init__.py:259\u001b[0m, in \u001b[0;36m_check_versions\u001b[0;34m()\u001b[0m\n\u001b[1;32m    257\u001b[0m module \u001b[38;5;241m=\u001b[39m importlib\u001b[38;5;241m.\u001b[39mimport_module(modname)\n\u001b[1;32m    258\u001b[0m \u001b[38;5;28;01mif\u001b[39;00m parse_version(module\u001b[38;5;241m.\u001b[39m__version__) \u001b[38;5;241m<\u001b[39m parse_version(minver):\n\u001b[0;32m--> 259\u001b[0m     \u001b[38;5;28;01mraise\u001b[39;00m \u001b[38;5;167;01mImportError\u001b[39;00m(\u001b[38;5;124mf\u001b[39m\u001b[38;5;124m\"\u001b[39m\u001b[38;5;124mMatplotlib requires \u001b[39m\u001b[38;5;132;01m{\u001b[39;00mmodname\u001b[38;5;132;01m}\u001b[39;00m\u001b[38;5;124m>=\u001b[39m\u001b[38;5;132;01m{\u001b[39;00mminver\u001b[38;5;132;01m}\u001b[39;00m\u001b[38;5;124m; \u001b[39m\u001b[38;5;124m\"\u001b[39m\n\u001b[1;32m    260\u001b[0m                       \u001b[38;5;124mf\u001b[39m\u001b[38;5;124m\"\u001b[39m\u001b[38;5;124myou have \u001b[39m\u001b[38;5;132;01m{\u001b[39;00mmodule\u001b[38;5;241m.\u001b[39m__version__\u001b[38;5;132;01m}\u001b[39;00m\u001b[38;5;124m\"\u001b[39m)\n",
      "\u001b[0;31mImportError\u001b[0m: Matplotlib requires numpy>=1.23; you have 1.19.5"
     ]
    }
   ],
   "source": [
    "import keras\n",
    "from keras.models import Sequential\n",
    "from keras.layers import Dense, Dropout, Flatten\n",
    "from keras.layers import Conv2D, MaxPooling2D\n",
    "from tensorflow.keras.utils import to_categorical\n",
    "from keras.preprocessing import image\n",
    "import numpy as np\n",
    "import pandas as pd\n",
    "import matplotlib.pyplot as plt\n",
    "from sklearn.model_selection import train_test_split\n",
    "from tqdm import tqdm\n",
    "%matplotlib inline"
   ]
  },
  {
   "cell_type": "code",
   "execution_count": null,
   "id": "d819e080-fa40-4355-9f89-b58d183689c6",
   "metadata": {
    "tags": []
   },
   "outputs": [],
   "source": [
    "import tensorflow as tf\n",
    "gpus = tf.config.list_physical_devices('GPU')\n",
    "gpus"
   ]
  },
  {
   "cell_type": "code",
   "execution_count": null,
   "id": "84d37dd8-1ecb-461d-a6f6-65d5beabd6c4",
   "metadata": {
    "tags": []
   },
   "outputs": [],
   "source": [
    "from keras.models import load_model\n",
    "model = load_model(TYPE_PREDICTION_MODEL_PATH)"
   ]
  },
  {
   "cell_type": "code",
   "execution_count": null,
   "id": "2e1c189b-b911-416a-9d27-4b1e3d2401df",
   "metadata": {
    "tags": []
   },
   "outputs": [],
   "source": [
    "names = []\n",
    "with open(NAMES_PATH, 'r') as file:\n",
    "    names = file.readlines()\n",
    "names = [line.strip() for line in names]"
   ]
  },
  {
   "cell_type": "code",
   "execution_count": null,
   "id": "4f6e288f-b8ba-4ca6-898d-4ddf11b2538e",
   "metadata": {
    "tags": []
   },
   "outputs": [],
   "source": [
    "pokemon = {}"
   ]
  },
  {
   "cell_type": "code",
   "execution_count": null,
   "id": "51bb6f70-eee5-4313-b8ac-87fc6db0825e",
   "metadata": {
    "tags": []
   },
   "outputs": [],
   "source": [
    "import os\n",
    "import numpy as np\n",
    "import matplotlib.pyplot as plt\n",
    "from tensorflow.keras.preprocessing import image\n",
    "import csv\n",
    "import random\n",
    "\n",
    "# Variables\n",
    "count = 0\n",
    "# fig, axes = plt.subplots(GRID_SIZE, GRID_SIZE, figsize=(64, 64))\n",
    "# axes = axes.flatten()\n",
    "\n",
    "train = pd.read_csv('/blue/rcstudents/smaley/pokegan/type-prediction/image_tagging/train.csv', nrows=5) # set limit, delete \"nrows\" to undo\n",
    "train.drop(['Name'],axis=1,inplace=True)\n",
    "\n",
    "# Iterate through the dataset\n",
    "for idx, file_name in enumerate(os.listdir(SAMPLES_PATH)):\n",
    "    if count >= GRID_SIZE * GRID_SIZE:  # Limit to 64 images\n",
    "        break\n",
    "    \n",
    "    img_path = os.path.join(SAMPLES_PATH, file_name)\n",
    "    img = image.load_img(img_path, target_size=INPUT_SIZE)\n",
    "    img_array = image.img_to_array(img) / 255.0  # Normalize\n",
    "    classes = np.array(train.columns[2:])\n",
    "    \n",
    "    probs = model.predict(img_array.reshape(1,64,64,3))\n",
    "    top_2 = np.argsort(probs[0])[:-3:-1]  # Get top 2 predictions\n",
    "    if probs[0][top_2[1]] < (probs[0][top_2[0]] / 3): # monotype if confidence threshold is low, this should be rare\n",
    "        top_2 = [top_2[0]]\n",
    "    \n",
    "    type_str = [f\"{classes[i]} ({probs[0][i]:.2f})\" for i in top_2]\n",
    "    typing_to_prob = {}\n",
    "    for i in range(len(classes)):\n",
    "        typing_to_prob[classes[i]] = probs[0][i]\n",
    "    \n",
    "    # pick name at random \n",
    "    random_name = random.choice(names)\n",
    "    names.remove(random_name)\n",
    "    \n",
    "    pokemon[file_name] = {\"typing\":typing_to_prob,\"type_str\":type_str,\"name\":random_name}\n",
    "    count += 1\n",
    "\n",
    "    \n",
    "    # axes[idx].imshow(image.load_img(img_path,target_size=OUTPUT_SIZE))\n",
    "    # axes[idx].axis('off')  # Turn off axis\n",
    "    # axes[idx].set_title(f\"P: {', '.join(type_str)}\\nN: {random_name}\", fontsize=24)\n",
    "# plt.tight_layout()\n",
    "# plt.savefig(f\"results/{OUTPUT_FILE}\")"
   ]
  },
  {
   "cell_type": "code",
   "execution_count": null,
   "id": "08382c9c-5d93-46af-a4c7-67c1b6815b0e",
   "metadata": {},
   "outputs": [],
   "source": []
  }
 ],
 "metadata": {
  "kernelspec": {
   "display_name": "type_prediction",
   "language": "python",
   "name": "type_prediction"
  },
  "language_info": {
   "codemirror_mode": {
    "name": "ipython",
    "version": 3
   },
   "file_extension": ".py",
   "mimetype": "text/x-python",
   "name": "python",
   "nbconvert_exporter": "python",
   "pygments_lexer": "ipython3",
   "version": "3.9.12"
  }
 },
 "nbformat": 4,
 "nbformat_minor": 5
}
