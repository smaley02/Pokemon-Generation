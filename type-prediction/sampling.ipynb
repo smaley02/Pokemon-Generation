{
 "cells": [
  {
   "cell_type": "code",
   "execution_count": 1,
   "id": "f9b76b8a-0b51-4889-8599-e1c561d31254",
   "metadata": {
    "tags": []
   },
   "outputs": [
    {
     "name": "stderr",
     "output_type": "stream",
     "text": [
      "2024-12-30 22:19:10.604443: I tensorflow/stream_executor/platform/default/dso_loader.cc:49] Successfully opened dynamic library libcudart.so.10.1\n"
     ]
    }
   ],
   "source": [
    "import keras\n",
    "from keras.models import Sequential\n",
    "from keras.layers import Dense, Dropout, Flatten\n",
    "from keras.layers import Conv2D, MaxPooling2D\n",
    "from tensorflow.keras.utils import to_categorical\n",
    "from keras.preprocessing import image\n",
    "import numpy as np\n",
    "import pandas as pd\n",
    "import matplotlib.pyplot as plt\n",
    "from sklearn.model_selection import train_test_split\n",
    "from tqdm import tqdm\n",
    "%matplotlib inline"
   ]
  },
  {
   "cell_type": "code",
   "execution_count": 2,
   "id": "6318ed88-3de8-418f-97fc-cabd6e6d9b5b",
   "metadata": {
    "tags": []
   },
   "outputs": [
    {
     "name": "stderr",
     "output_type": "stream",
     "text": [
      "2024-12-30 22:19:17.900646: I tensorflow/compiler/jit/xla_cpu_device.cc:41] Not creating XLA devices, tf_xla_enable_xla_devices not set\n",
      "2024-12-30 22:19:17.924938: I tensorflow/stream_executor/platform/default/dso_loader.cc:49] Successfully opened dynamic library libcuda.so.1\n",
      "2024-12-30 22:19:18.702720: I tensorflow/core/common_runtime/gpu/gpu_device.cc:1720] Found device 0 with properties: \n",
      "pciBusID: 0000:b7:00.0 name: NVIDIA A100-SXM4-80GB computeCapability: 8.0\n",
      "coreClock: 1.41GHz coreCount: 108 deviceMemorySize: 79.14GiB deviceMemoryBandwidth: 1.85TiB/s\n",
      "2024-12-30 22:19:18.702774: I tensorflow/stream_executor/platform/default/dso_loader.cc:49] Successfully opened dynamic library libcudart.so.10.1\n",
      "2024-12-30 22:19:18.930298: I tensorflow/stream_executor/platform/default/dso_loader.cc:49] Successfully opened dynamic library libcublas.so.10\n",
      "2024-12-30 22:19:18.930332: I tensorflow/stream_executor/platform/default/dso_loader.cc:49] Successfully opened dynamic library libcublasLt.so.10\n",
      "2024-12-30 22:19:19.546538: I tensorflow/stream_executor/platform/default/dso_loader.cc:49] Successfully opened dynamic library libcufft.so.10\n",
      "2024-12-30 22:19:19.678978: I tensorflow/stream_executor/platform/default/dso_loader.cc:49] Successfully opened dynamic library libcurand.so.10\n",
      "2024-12-30 22:19:20.557965: I tensorflow/stream_executor/platform/default/dso_loader.cc:49] Successfully opened dynamic library libcusolver.so.10\n",
      "2024-12-30 22:19:20.877781: I tensorflow/stream_executor/platform/default/dso_loader.cc:49] Successfully opened dynamic library libcusparse.so.10\n",
      "2024-12-30 22:19:22.372943: I tensorflow/stream_executor/platform/default/dso_loader.cc:49] Successfully opened dynamic library libcudnn.so.7\n",
      "2024-12-30 22:19:22.378175: I tensorflow/core/common_runtime/gpu/gpu_device.cc:1862] Adding visible gpu devices: 0\n"
     ]
    },
    {
     "data": {
      "text/plain": [
       "[PhysicalDevice(name='/physical_device:GPU:0', device_type='GPU')]"
      ]
     },
     "execution_count": 2,
     "metadata": {},
     "output_type": "execute_result"
    }
   ],
   "source": [
    "import tensorflow as tf\n",
    "gpus = tf.config.list_physical_devices('GPU')\n",
    "gpus"
   ]
  },
  {
   "cell_type": "code",
   "execution_count": 3,
   "id": "3e9634a1-12d3-4e00-ab77-64a6ff02e821",
   "metadata": {},
   "outputs": [
    {
     "data": {
      "text/html": [
       "<div>\n",
       "<style scoped>\n",
       "    .dataframe tbody tr th:only-of-type {\n",
       "        vertical-align: middle;\n",
       "    }\n",
       "\n",
       "    .dataframe tbody tr th {\n",
       "        vertical-align: top;\n",
       "    }\n",
       "\n",
       "    .dataframe thead th {\n",
       "        text-align: right;\n",
       "    }\n",
       "</style>\n",
       "<table border=\"1\" class=\"dataframe\">\n",
       "  <thead>\n",
       "    <tr style=\"text-align: right;\">\n",
       "      <th></th>\n",
       "      <th>Key</th>\n",
       "      <th>Type</th>\n",
       "      <th>normal</th>\n",
       "      <th>fire</th>\n",
       "      <th>water</th>\n",
       "      <th>grass</th>\n",
       "      <th>electric</th>\n",
       "      <th>ice</th>\n",
       "      <th>fighting</th>\n",
       "      <th>poison</th>\n",
       "      <th>ground</th>\n",
       "      <th>flying</th>\n",
       "      <th>psychic</th>\n",
       "      <th>bug</th>\n",
       "      <th>rock</th>\n",
       "      <th>ghost</th>\n",
       "      <th>dragon</th>\n",
       "      <th>dark</th>\n",
       "      <th>steel</th>\n",
       "      <th>fairy</th>\n",
       "    </tr>\n",
       "  </thead>\n",
       "  <tbody>\n",
       "    <tr>\n",
       "      <th>0</th>\n",
       "      <td>110.95</td>\n",
       "      <td>poison, ground</td>\n",
       "      <td>0</td>\n",
       "      <td>0</td>\n",
       "      <td>0</td>\n",
       "      <td>0</td>\n",
       "      <td>0</td>\n",
       "      <td>0</td>\n",
       "      <td>0</td>\n",
       "      <td>1</td>\n",
       "      <td>1</td>\n",
       "      <td>0</td>\n",
       "      <td>0</td>\n",
       "      <td>0</td>\n",
       "      <td>0</td>\n",
       "      <td>0</td>\n",
       "      <td>0</td>\n",
       "      <td>0</td>\n",
       "      <td>0</td>\n",
       "      <td>0</td>\n",
       "    </tr>\n",
       "    <tr>\n",
       "      <th>1</th>\n",
       "      <td>155.408</td>\n",
       "      <td>fire, fairy</td>\n",
       "      <td>0</td>\n",
       "      <td>1</td>\n",
       "      <td>0</td>\n",
       "      <td>0</td>\n",
       "      <td>0</td>\n",
       "      <td>0</td>\n",
       "      <td>0</td>\n",
       "      <td>0</td>\n",
       "      <td>0</td>\n",
       "      <td>0</td>\n",
       "      <td>0</td>\n",
       "      <td>0</td>\n",
       "      <td>0</td>\n",
       "      <td>0</td>\n",
       "      <td>0</td>\n",
       "      <td>0</td>\n",
       "      <td>0</td>\n",
       "      <td>1</td>\n",
       "    </tr>\n",
       "    <tr>\n",
       "      <th>2</th>\n",
       "      <td>360.381</td>\n",
       "      <td>grass, psychic</td>\n",
       "      <td>0</td>\n",
       "      <td>0</td>\n",
       "      <td>0</td>\n",
       "      <td>1</td>\n",
       "      <td>0</td>\n",
       "      <td>0</td>\n",
       "      <td>0</td>\n",
       "      <td>0</td>\n",
       "      <td>0</td>\n",
       "      <td>0</td>\n",
       "      <td>1</td>\n",
       "      <td>0</td>\n",
       "      <td>0</td>\n",
       "      <td>0</td>\n",
       "      <td>0</td>\n",
       "      <td>0</td>\n",
       "      <td>0</td>\n",
       "      <td>0</td>\n",
       "    </tr>\n",
       "    <tr>\n",
       "      <th>3</th>\n",
       "      <td>6.142e</td>\n",
       "      <td>fire, flying</td>\n",
       "      <td>0</td>\n",
       "      <td>1</td>\n",
       "      <td>0</td>\n",
       "      <td>0</td>\n",
       "      <td>0</td>\n",
       "      <td>0</td>\n",
       "      <td>0</td>\n",
       "      <td>0</td>\n",
       "      <td>0</td>\n",
       "      <td>1</td>\n",
       "      <td>0</td>\n",
       "      <td>0</td>\n",
       "      <td>0</td>\n",
       "      <td>0</td>\n",
       "      <td>0</td>\n",
       "      <td>0</td>\n",
       "      <td>0</td>\n",
       "      <td>0</td>\n",
       "    </tr>\n",
       "    <tr>\n",
       "      <th>4</th>\n",
       "      <td>289.175</td>\n",
       "      <td>bug, fairy</td>\n",
       "      <td>0</td>\n",
       "      <td>0</td>\n",
       "      <td>0</td>\n",
       "      <td>0</td>\n",
       "      <td>0</td>\n",
       "      <td>0</td>\n",
       "      <td>0</td>\n",
       "      <td>0</td>\n",
       "      <td>0</td>\n",
       "      <td>0</td>\n",
       "      <td>0</td>\n",
       "      <td>1</td>\n",
       "      <td>0</td>\n",
       "      <td>0</td>\n",
       "      <td>0</td>\n",
       "      <td>0</td>\n",
       "      <td>0</td>\n",
       "      <td>1</td>\n",
       "    </tr>\n",
       "  </tbody>\n",
       "</table>\n",
       "</div>"
      ],
      "text/plain": [
       "       Key            Type  normal  fire  water  grass  electric  ice  \\\n",
       "0   110.95  poison, ground       0     0      0      0         0    0   \n",
       "1  155.408     fire, fairy       0     1      0      0         0    0   \n",
       "2  360.381  grass, psychic       0     0      0      1         0    0   \n",
       "3   6.142e    fire, flying       0     1      0      0         0    0   \n",
       "4  289.175      bug, fairy       0     0      0      0         0    0   \n",
       "\n",
       "   fighting  poison  ground  flying  psychic  bug  rock  ghost  dragon  dark  \\\n",
       "0         0       1       1       0        0    0     0      0       0     0   \n",
       "1         0       0       0       0        0    0     0      0       0     0   \n",
       "2         0       0       0       0        1    0     0      0       0     0   \n",
       "3         0       0       0       1        0    0     0      0       0     0   \n",
       "4         0       0       0       0        0    1     0      0       0     0   \n",
       "\n",
       "   steel  fairy  \n",
       "0      0      0  \n",
       "1      0      1  \n",
       "2      0      0  \n",
       "3      0      0  \n",
       "4      0      1  "
      ]
     },
     "execution_count": 3,
     "metadata": {},
     "output_type": "execute_result"
    }
   ],
   "source": [
    "train = pd.read_csv('image_tagging/train.csv') # set limit, delete \"nrows\" to undo\n",
    "train.drop(['Name'],axis=1,inplace=True)\n",
    "train.drop(train[train[\"Key\"] == \"182.429\"].index, inplace=True) # invalid row\n",
    "train.reset_index(drop=True, inplace=True)\n",
    "train.head()"
   ]
  },
  {
   "cell_type": "code",
   "execution_count": 4,
   "id": "afa747e5-226b-48ac-9b3a-7b71373f1d68",
   "metadata": {
    "tags": []
   },
   "outputs": [
    {
     "data": {
      "text/plain": [
       "Index(['Key', 'Type', 'normal', 'fire', 'water', 'grass', 'electric', 'ice',\n",
       "       'fighting', 'poison', 'ground', 'flying', 'psychic', 'bug', 'rock',\n",
       "       'ghost', 'dragon', 'dark', 'steel', 'fairy'],\n",
       "      dtype='object')"
      ]
     },
     "execution_count": 4,
     "metadata": {},
     "output_type": "execute_result"
    }
   ],
   "source": [
    "train.columns"
   ]
  },
  {
   "cell_type": "code",
   "execution_count": 5,
   "id": "60a6d3fb-0cd7-4203-bdd3-6d0d293120a2",
   "metadata": {
    "tags": []
   },
   "outputs": [],
   "source": [
    "TRAINING_DATASET = \"/blue/rcstudents/smaley/pokegan/customsprites/blk_bg/input\"\n",
    "IMAGE_SIZE = (256,256,3)\n",
    "# # IMAGE_SIZE = (64,64,3) # try scaling down\n",
    "\n",
    "# train_image = []\n",
    "# for i in tqdm(range(train.shape[0])):\n",
    "#     img = image.load_img(f\"{TRAINING_DATASET}/{train.at[i, 'Key']}.png\",target_size=IMAGE_SIZE)\n",
    "#     img = image.img_to_array(img)\n",
    "#     img = img/255\n",
    "#     train_image.append(img)\n",
    "# X = np.array(train_image)"
   ]
  },
  {
   "cell_type": "code",
   "execution_count": 6,
   "id": "770bc4cd-6f29-41bb-9d42-5ca8fa2f8bea",
   "metadata": {
    "tags": []
   },
   "outputs": [
    {
     "name": "stderr",
     "output_type": "stream",
     "text": [
      "2024-12-30 22:19:22.947067: I tensorflow/core/platform/cpu_feature_guard.cc:142] This TensorFlow binary is optimized with oneAPI Deep Neural Network Library (oneDNN) to use the following CPU instructions in performance-critical operations:  SSE4.1 SSE4.2 AVX AVX2 FMA\n",
      "To enable them in other operations, rebuild TensorFlow with the appropriate compiler flags.\n",
      "2024-12-30 22:19:22.964022: I tensorflow/compiler/jit/xla_gpu_device.cc:99] Not creating XLA devices, tf_xla_enable_xla_devices not set\n",
      "2024-12-30 22:19:22.994886: I tensorflow/core/common_runtime/gpu/gpu_device.cc:1720] Found device 0 with properties: \n",
      "pciBusID: 0000:b7:00.0 name: NVIDIA A100-SXM4-80GB computeCapability: 8.0\n",
      "coreClock: 1.41GHz coreCount: 108 deviceMemorySize: 79.14GiB deviceMemoryBandwidth: 1.85TiB/s\n",
      "2024-12-30 22:19:22.994915: I tensorflow/stream_executor/platform/default/dso_loader.cc:49] Successfully opened dynamic library libcudart.so.10.1\n",
      "2024-12-30 22:19:22.994944: I tensorflow/stream_executor/platform/default/dso_loader.cc:49] Successfully opened dynamic library libcublas.so.10\n",
      "2024-12-30 22:19:22.994955: I tensorflow/stream_executor/platform/default/dso_loader.cc:49] Successfully opened dynamic library libcublasLt.so.10\n",
      "2024-12-30 22:19:22.994965: I tensorflow/stream_executor/platform/default/dso_loader.cc:49] Successfully opened dynamic library libcufft.so.10\n",
      "2024-12-30 22:19:22.994975: I tensorflow/stream_executor/platform/default/dso_loader.cc:49] Successfully opened dynamic library libcurand.so.10\n",
      "2024-12-30 22:19:22.994985: I tensorflow/stream_executor/platform/default/dso_loader.cc:49] Successfully opened dynamic library libcusolver.so.10\n",
      "2024-12-30 22:19:22.994994: I tensorflow/stream_executor/platform/default/dso_loader.cc:49] Successfully opened dynamic library libcusparse.so.10\n",
      "2024-12-30 22:19:22.995004: I tensorflow/stream_executor/platform/default/dso_loader.cc:49] Successfully opened dynamic library libcudnn.so.7\n",
      "2024-12-30 22:19:23.001070: I tensorflow/core/common_runtime/gpu/gpu_device.cc:1862] Adding visible gpu devices: 0\n",
      "2024-12-30 22:19:23.070957: I tensorflow/stream_executor/platform/default/dso_loader.cc:49] Successfully opened dynamic library libcudart.so.10.1\n",
      "2024-12-30 22:19:37.188954: I tensorflow/core/common_runtime/gpu/gpu_device.cc:1261] Device interconnect StreamExecutor with strength 1 edge matrix:\n",
      "2024-12-30 22:19:37.188988: I tensorflow/core/common_runtime/gpu/gpu_device.cc:1267]      0 \n",
      "2024-12-30 22:19:37.188996: I tensorflow/core/common_runtime/gpu/gpu_device.cc:1280] 0:   N \n",
      "2024-12-30 22:19:37.221428: I tensorflow/core/common_runtime/gpu/gpu_device.cc:1406] Created TensorFlow device (/job:localhost/replica:0/task:0/device:GPU:0 with 75642 MB memory) -> physical GPU (device: 0, name: NVIDIA A100-SXM4-80GB, pci bus id: 0000:b7:00.0, compute capability: 8.0)\n"
     ]
    }
   ],
   "source": [
    "from keras.models import load_model\n",
    "\n",
    "model = load_model(\"./models/base_model/200_epoch.keras\")"
   ]
  },
  {
   "cell_type": "code",
   "execution_count": 7,
   "id": "385a48c0-1e74-4eaf-91e1-77eaee272882",
   "metadata": {
    "tags": []
   },
   "outputs": [
    {
     "name": "stdout",
     "output_type": "stream",
     "text": [
      "{'Type': 'dark, fairy', 'Name': 'Zoroark/Gardevoir', 'Body': '338', 'Head': '287'}\n"
     ]
    }
   ],
   "source": [
    "import csv\n",
    "\n",
    "file_path = \"image_tagging/all_pokemon_to_type.csv\"\n",
    "pokedex = {}\n",
    "\n",
    "with open(file_path, mode='r') as file:\n",
    "    csv_reader = csv.DictReader(file)\n",
    "    for row in csv_reader:\n",
    "        key = row['Key']\n",
    "        value = {col: row[col] for col in row if col != 'Key'}\n",
    "        pokedex[key] = value\n",
    "\n",
    "print(pokedex[\"338.287i\"])"
   ]
  },
  {
   "cell_type": "code",
   "execution_count": null,
   "id": "1a39c738-bf44-4017-96d9-8d888ab1d2ba",
   "metadata": {
    "tags": []
   },
   "outputs": [
    {
     "name": "stderr",
     "output_type": "stream",
     "text": [
      "2024-12-30 22:20:50.155528: I tensorflow/compiler/mlir/mlir_graph_optimization_pass.cc:116] None of the MLIR optimization passes are enabled (registered 2)\n",
      "2024-12-30 22:20:50.456291: I tensorflow/core/platform/profile_utils/cpu_utils.cc:112] CPU Frequency: 2245635000 Hz\n",
      "2024-12-30 22:20:51.828818: I tensorflow/stream_executor/platform/default/dso_loader.cc:49] Successfully opened dynamic library libcublas.so.10\n",
      "2024-12-30 22:20:52.759935: I tensorflow/stream_executor/platform/default/dso_loader.cc:49] Successfully opened dynamic library libcudnn.so.7\n",
      "2024-12-30 22:27:13.897150: W tensorflow/stream_executor/gpu/asm_compiler.cc:63] Running ptxas --version returned 256\n",
      "2024-12-30 22:27:14.001765: W tensorflow/stream_executor/gpu/redzone_allocator.cc:314] Internal: ptxas exited with non-zero error code 256, output: \n",
      "Relying on driver to perform ptx compilation. \n",
      "Modify $PATH to customize ptxas location.\n",
      "This message will be only logged once.\n"
     ]
    }
   ],
   "source": [
    "import os\n",
    "import numpy as np\n",
    "import matplotlib.pyplot as plt\n",
    "from tensorflow.keras.preprocessing import image\n",
    "\n",
    "# Constants\n",
    "GRID_SIZE = 4  # 8x8 grid\n",
    "OUTPUT_FILE = \"predictions_grid_4.png\"  # Output file name\n",
    "\n",
    "# Variables\n",
    "count = 0\n",
    "fig, axes = plt.subplots(GRID_SIZE, GRID_SIZE, figsize=(6, 6))\n",
    "axes = axes.flatten()\n",
    "\n",
    "# Iterate through the dataset\n",
    "for idx, file_name in enumerate(os.listdir(TRAINING_DATASET)):\n",
    "    if count >= GRID_SIZE * GRID_SIZE:  # Limit to 64 images\n",
    "        break\n",
    "    \n",
    "    # Load and preprocess the image\n",
    "    img_path = os.path.join(TRAINING_DATASET, file_name)\n",
    "    img = image.load_img(img_path, target_size=IMAGE_SIZE)\n",
    "    img_array = image.img_to_array(img) / 255.0  # Normalize\n",
    "    classes = np.array(train.columns[2:])\n",
    "    \n",
    "    # Make predictions\n",
    "    proba = model.predict(img_array.reshape(1,256,256,3))\n",
    "    top_2 = np.argsort(proba[0])[:-3:-1]  # Get top 2 predictions\n",
    "    top_2_predictions = [f\"{classes[i]} ({proba[0][i]:.2f})\" for i in top_2]\n",
    "    \n",
    "    # Get ground truth\n",
    "    ground_truth = pokedex[file_name[:-4]][\"Type\"]\n",
    "    \n",
    "    # Plot image in grid\n",
    "    axes[idx].imshow(image.load_img(img_path,target_size=IMAGE_SIZE))\n",
    "    axes[idx].axis('off')  # Turn off axis\n",
    "    axes[idx].set_title(f\"P: {', '.join(top_2_predictions)}\\nA: {ground_truth}\", fontsize=6)\n",
    "    \n",
    "    count += 1\n",
    "\n",
    "# Adjust layout and save the grid\n",
    "plt.tight_layout()\n",
    "plt.savefig(OUTPUT_FILE, dpi=300)\n",
    "plt.show()"
   ]
  },
  {
   "cell_type": "code",
   "execution_count": null,
   "id": "ed6adedb-c6e8-4a7d-b6c4-45ab81a3c6f9",
   "metadata": {},
   "outputs": [],
   "source": []
  }
 ],
 "metadata": {
  "kernelspec": {
   "display_name": "tp_3",
   "language": "python",
   "name": "tp_3"
  },
  "language_info": {
   "codemirror_mode": {
    "name": "ipython",
    "version": 3
   },
   "file_extension": ".py",
   "mimetype": "text/x-python",
   "name": "python",
   "nbconvert_exporter": "python",
   "pygments_lexer": "ipython3",
   "version": "3.8.20"
  }
 },
 "nbformat": 4,
 "nbformat_minor": 5
}
