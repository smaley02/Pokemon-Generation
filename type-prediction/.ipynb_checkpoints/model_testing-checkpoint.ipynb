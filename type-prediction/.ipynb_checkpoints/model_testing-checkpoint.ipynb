{
 "cells": [
  {
   "cell_type": "markdown",
   "id": "0b2e5d63-f904-4553-a146-f68d9dd6e95c",
   "metadata": {},
   "source": [
    "From the dataset we observe a few things:\n",
    "- This is a multilabel image classification problem\n",
    "    - one or two possible types per image, so not multiclass\n",
    "- We could make this multiclass if we consider combination types as their own class\n",
    "    - not sure tho\n",
    "- there is a class imbalance, far more normal and water types. And ice types are a fifth the size of the largest class\n",
    "- This [guide](https://www.analyticsvidhya.com/blog/2019/04/build-first-multi-label-image-classification-model-python/) will help"
   ]
  },
  {
   "cell_type": "markdown",
   "id": "2608644b-6709-4643-8186-b760b320d303",
   "metadata": {},
   "source": [
    "Notes:\n",
    "- one model for each type, which will give a probablity score for each class\n",
    "- the top two classes for each image will be the predicted types\n",
    "    - the second type will have to be above a certain threshold else one type is predicted\n",
    "    - Our class probabilities are independent of each other"
   ]
  },
  {
   "cell_type": "code",
   "execution_count": 28,
   "id": "c4d4915a-2d16-4e9c-9cb8-5ea19d2f1de3",
   "metadata": {
    "tags": []
   },
   "outputs": [],
   "source": [
    "import keras\n",
    "from keras.models import Sequential\n",
    "from keras.layers import Dense, Dropout, Flatten\n",
    "from keras.layers import Conv2D, MaxPooling2D\n",
    "from tensorflow.keras.utils import to_categorical\n",
    "from keras.preprocessing import image\n",
    "import numpy as np\n",
    "import pandas as pd\n",
    "import matplotlib.pyplot as plt\n",
    "from sklearn.model_selection import train_test_split\n",
    "from tqdm import tqdm\n",
    "%matplotlib inline"
   ]
  },
  {
   "cell_type": "code",
   "execution_count": 29,
   "id": "3eaddf81-74b9-4e60-b4b8-7de0a4f060cf",
   "metadata": {
    "tags": []
   },
   "outputs": [
    {
     "data": {
      "text/plain": [
       "[PhysicalDevice(name='/physical_device:GPU:0', device_type='GPU')]"
      ]
     },
     "execution_count": 29,
     "metadata": {},
     "output_type": "execute_result"
    }
   ],
   "source": [
    "import tensorflow as tf\n",
    "gpus = tf.config.list_physical_devices('GPU')\n",
    "gpus"
   ]
  },
  {
   "cell_type": "code",
   "execution_count": 30,
   "id": "c6d914ff-bcaa-4908-a03e-8b42befd66c3",
   "metadata": {},
   "outputs": [
    {
     "data": {
      "text/html": [
       "<div>\n",
       "<style scoped>\n",
       "    .dataframe tbody tr th:only-of-type {\n",
       "        vertical-align: middle;\n",
       "    }\n",
       "\n",
       "    .dataframe tbody tr th {\n",
       "        vertical-align: top;\n",
       "    }\n",
       "\n",
       "    .dataframe thead th {\n",
       "        text-align: right;\n",
       "    }\n",
       "</style>\n",
       "<table border=\"1\" class=\"dataframe\">\n",
       "  <thead>\n",
       "    <tr style=\"text-align: right;\">\n",
       "      <th></th>\n",
       "      <th>Key</th>\n",
       "      <th>Type</th>\n",
       "      <th>Name</th>\n",
       "      <th>normal</th>\n",
       "      <th>fire</th>\n",
       "      <th>water</th>\n",
       "      <th>grass</th>\n",
       "      <th>electric</th>\n",
       "      <th>ice</th>\n",
       "      <th>fighting</th>\n",
       "      <th>...</th>\n",
       "      <th>ground</th>\n",
       "      <th>flying</th>\n",
       "      <th>psychic</th>\n",
       "      <th>bug</th>\n",
       "      <th>rock</th>\n",
       "      <th>ghost</th>\n",
       "      <th>dragon</th>\n",
       "      <th>dark</th>\n",
       "      <th>steel</th>\n",
       "      <th>fairy</th>\n",
       "    </tr>\n",
       "  </thead>\n",
       "  <tbody>\n",
       "    <tr>\n",
       "      <th>0</th>\n",
       "      <td>110.95</td>\n",
       "      <td>poison, ground</td>\n",
       "      <td>Weezing/Onix</td>\n",
       "      <td>0</td>\n",
       "      <td>0</td>\n",
       "      <td>0</td>\n",
       "      <td>0</td>\n",
       "      <td>0</td>\n",
       "      <td>0</td>\n",
       "      <td>0</td>\n",
       "      <td>...</td>\n",
       "      <td>1</td>\n",
       "      <td>0</td>\n",
       "      <td>0</td>\n",
       "      <td>0</td>\n",
       "      <td>0</td>\n",
       "      <td>0</td>\n",
       "      <td>0</td>\n",
       "      <td>0</td>\n",
       "      <td>0</td>\n",
       "      <td>0</td>\n",
       "    </tr>\n",
       "    <tr>\n",
       "      <th>1</th>\n",
       "      <td>155.408</td>\n",
       "      <td>fire, fairy</td>\n",
       "      <td>Cyndaquil/Cottonee</td>\n",
       "      <td>0</td>\n",
       "      <td>1</td>\n",
       "      <td>0</td>\n",
       "      <td>0</td>\n",
       "      <td>0</td>\n",
       "      <td>0</td>\n",
       "      <td>0</td>\n",
       "      <td>...</td>\n",
       "      <td>0</td>\n",
       "      <td>0</td>\n",
       "      <td>0</td>\n",
       "      <td>0</td>\n",
       "      <td>0</td>\n",
       "      <td>0</td>\n",
       "      <td>0</td>\n",
       "      <td>0</td>\n",
       "      <td>0</td>\n",
       "      <td>1</td>\n",
       "    </tr>\n",
       "    <tr>\n",
       "      <th>2</th>\n",
       "      <td>360.381</td>\n",
       "      <td>grass, psychic</td>\n",
       "      <td>Whimsicott/Jirachi</td>\n",
       "      <td>0</td>\n",
       "      <td>0</td>\n",
       "      <td>0</td>\n",
       "      <td>1</td>\n",
       "      <td>0</td>\n",
       "      <td>0</td>\n",
       "      <td>0</td>\n",
       "      <td>...</td>\n",
       "      <td>0</td>\n",
       "      <td>0</td>\n",
       "      <td>1</td>\n",
       "      <td>0</td>\n",
       "      <td>0</td>\n",
       "      <td>0</td>\n",
       "      <td>0</td>\n",
       "      <td>0</td>\n",
       "      <td>0</td>\n",
       "      <td>0</td>\n",
       "    </tr>\n",
       "    <tr>\n",
       "      <th>3</th>\n",
       "      <td>6.142e</td>\n",
       "      <td>fire, flying</td>\n",
       "      <td>Charizard/Aerodactyl</td>\n",
       "      <td>0</td>\n",
       "      <td>1</td>\n",
       "      <td>0</td>\n",
       "      <td>0</td>\n",
       "      <td>0</td>\n",
       "      <td>0</td>\n",
       "      <td>0</td>\n",
       "      <td>...</td>\n",
       "      <td>0</td>\n",
       "      <td>1</td>\n",
       "      <td>0</td>\n",
       "      <td>0</td>\n",
       "      <td>0</td>\n",
       "      <td>0</td>\n",
       "      <td>0</td>\n",
       "      <td>0</td>\n",
       "      <td>0</td>\n",
       "      <td>0</td>\n",
       "    </tr>\n",
       "    <tr>\n",
       "      <th>4</th>\n",
       "      <td>289.175</td>\n",
       "      <td>bug, fairy</td>\n",
       "      <td>Shedinja/Togepi</td>\n",
       "      <td>0</td>\n",
       "      <td>0</td>\n",
       "      <td>0</td>\n",
       "      <td>0</td>\n",
       "      <td>0</td>\n",
       "      <td>0</td>\n",
       "      <td>0</td>\n",
       "      <td>...</td>\n",
       "      <td>0</td>\n",
       "      <td>0</td>\n",
       "      <td>0</td>\n",
       "      <td>1</td>\n",
       "      <td>0</td>\n",
       "      <td>0</td>\n",
       "      <td>0</td>\n",
       "      <td>0</td>\n",
       "      <td>0</td>\n",
       "      <td>1</td>\n",
       "    </tr>\n",
       "  </tbody>\n",
       "</table>\n",
       "<p>5 rows × 21 columns</p>\n",
       "</div>"
      ],
      "text/plain": [
       "       Key            Type                  Name  normal  fire  water  grass  \\\n",
       "0   110.95  poison, ground          Weezing/Onix       0     0      0      0   \n",
       "1  155.408     fire, fairy    Cyndaquil/Cottonee       0     1      0      0   \n",
       "2  360.381  grass, psychic    Whimsicott/Jirachi       0     0      0      1   \n",
       "3   6.142e    fire, flying  Charizard/Aerodactyl       0     1      0      0   \n",
       "4  289.175      bug, fairy       Shedinja/Togepi       0     0      0      0   \n",
       "\n",
       "   electric  ice  fighting  ...  ground  flying  psychic  bug  rock  ghost  \\\n",
       "0         0    0         0  ...       1       0        0    0     0      0   \n",
       "1         0    0         0  ...       0       0        0    0     0      0   \n",
       "2         0    0         0  ...       0       0        1    0     0      0   \n",
       "3         0    0         0  ...       0       1        0    0     0      0   \n",
       "4         0    0         0  ...       0       0        0    1     0      0   \n",
       "\n",
       "   dragon  dark  steel  fairy  \n",
       "0       0     0      0      0  \n",
       "1       0     0      0      1  \n",
       "2       0     0      0      0  \n",
       "3       0     0      0      0  \n",
       "4       0     0      0      1  \n",
       "\n",
       "[5 rows x 21 columns]"
      ]
     },
     "execution_count": 30,
     "metadata": {},
     "output_type": "execute_result"
    }
   ],
   "source": [
    "train = pd.read_csv('image_tagging/train.csv', nrows=20000) # set limit, delete \"nrows\" to undo\n",
    "train.head()"
   ]
  },
  {
   "cell_type": "code",
   "execution_count": 31,
   "id": "4e608948-edf4-4d77-8002-f66cec802446",
   "metadata": {
    "tags": []
   },
   "outputs": [
    {
     "data": {
      "text/plain": [
       "Index(['Key', 'Type', 'Name', 'normal', 'fire', 'water', 'grass', 'electric',\n",
       "       'ice', 'fighting', 'poison', 'ground', 'flying', 'psychic', 'bug',\n",
       "       'rock', 'ghost', 'dragon', 'dark', 'steel', 'fairy'],\n",
       "      dtype='object')"
      ]
     },
     "execution_count": 31,
     "metadata": {},
     "output_type": "execute_result"
    }
   ],
   "source": [
    "train.columns"
   ]
  },
  {
   "cell_type": "code",
   "execution_count": null,
   "id": "c32a0646-903e-4a21-96bc-2bd60a1745a0",
   "metadata": {
    "tags": []
   },
   "outputs": [
    {
     "name": "stderr",
     "output_type": "stream",
     "text": [
      " 99%|█████████▉| 19875/20000 [00:41<00:00, 186.94it/s]"
     ]
    }
   ],
   "source": [
    "TRAINING_DATASET = \"/blue/rcstudents/smaley/pokegan/customsprites/blk_bg/input\"\n",
    "IMAGE_SIZE = (256,256,3)\n",
    "\n",
    "train_image = []\n",
    "for i in tqdm(range(train.shape[0])):\n",
    "    # we want them to be 256x256 images \n",
    "    img = image.load_img(f\"{TRAINING_DATASET}/{train.at[i, 'Key']}.png\",target_size=IMAGE_SIZE)\n",
    "    img = image.img_to_array(img)\n",
    "    img = img/255\n",
    "    train_image.append(img)\n",
    "X = np.array(train_image)"
   ]
  },
  {
   "cell_type": "code",
   "execution_count": null,
   "id": "5aba3a06-ec18-4c64-b517-4226a307da76",
   "metadata": {
    "tags": []
   },
   "outputs": [],
   "source": [
    "X.shape"
   ]
  },
  {
   "cell_type": "code",
   "execution_count": null,
   "id": "87b2296a-7b6a-4ca5-8100-e47e918ed5be",
   "metadata": {
    "tags": []
   },
   "outputs": [],
   "source": [
    "plt.imshow(X[2])"
   ]
  },
  {
   "cell_type": "code",
   "execution_count": null,
   "id": "740a7a2a-0d8c-4745-b508-9301d14d35da",
   "metadata": {
    "tags": []
   },
   "outputs": [],
   "source": [
    "train['Type'][2]"
   ]
  },
  {
   "cell_type": "code",
   "execution_count": null,
   "id": "39ab4779-ae21-42da-9355-e9635bbe5387",
   "metadata": {
    "tags": []
   },
   "outputs": [],
   "source": [
    "y = np.array(train.drop(['Key', 'Type', 'Name'],axis=1))\n",
    "y.shape"
   ]
  },
  {
   "cell_type": "code",
   "execution_count": null,
   "id": "bb16055b-10d7-49d9-90ef-80eaf6a899d6",
   "metadata": {
    "tags": []
   },
   "outputs": [],
   "source": [
    "X_train, X_test, y_train, y_test = train_test_split(X, y, random_state=42, test_size=0.1)"
   ]
  },
  {
   "cell_type": "code",
   "execution_count": null,
   "id": "5dd7c451-612f-4ea0-8d99-7036599aeb61",
   "metadata": {
    "tags": []
   },
   "outputs": [],
   "source": [
    "model = Sequential()\n",
    "model.add(Conv2D(filters=16, kernel_size=(5, 5), activation=\"relu\", input_shape=IMAGE_SIZE))\n",
    "model.add(MaxPooling2D(pool_size=(2, 2)))\n",
    "model.add(Dropout(0.25))\n",
    "model.add(Conv2D(filters=32, kernel_size=(5, 5), activation='relu'))\n",
    "model.add(MaxPooling2D(pool_size=(2, 2)))\n",
    "model.add(Dropout(0.25))\n",
    "model.add(Conv2D(filters=64, kernel_size=(5, 5), activation=\"relu\"))\n",
    "model.add(MaxPooling2D(pool_size=(2, 2)))\n",
    "model.add(Dropout(0.25))\n",
    "model.add(Conv2D(filters=64, kernel_size=(5, 5), activation='relu'))\n",
    "model.add(MaxPooling2D(pool_size=(2, 2)))\n",
    "model.add(Dropout(0.25))\n",
    "model.add(Flatten())\n",
    "model.add(Dense(128, activation='relu'))\n",
    "model.add(Dropout(0.5))\n",
    "model.add(Dense(64, activation='relu'))\n",
    "model.add(Dropout(0.5))\n",
    "model.add(Dense(18, activation='sigmoid')) # make equal to num classes"
   ]
  },
  {
   "cell_type": "code",
   "execution_count": null,
   "id": "b71a67de-45a7-451c-9577-a85d3a17683d",
   "metadata": {
    "tags": []
   },
   "outputs": [],
   "source": [
    "model.summary()"
   ]
  },
  {
   "cell_type": "code",
   "execution_count": null,
   "id": "8c1c138e-2db0-41c2-a086-e7c4c1da0992",
   "metadata": {
    "tags": []
   },
   "outputs": [],
   "source": [
    "model.compile(optimizer='adam', loss='binary_crossentropy', metrics=['accuracy'])"
   ]
  },
  {
   "cell_type": "code",
   "execution_count": null,
   "id": "0b9f431d-8481-44ac-b864-260f3e1991cc",
   "metadata": {
    "tags": []
   },
   "outputs": [],
   "source": [
    "model.fit(X_train, y_train, epochs=10, validation_data=(X_test, y_test), batch_size=64)"
   ]
  },
  {
   "cell_type": "code",
   "execution_count": null,
   "id": "f8b729aa-5b89-4fb7-bd83-e60622ae21d9",
   "metadata": {},
   "outputs": [],
   "source": [
    "img = image.load_img(f\"{TRAINING_DATASET}/338.287i.png\",target_size=IMAGE_SIZE)\n",
    "img = image.img_to_array(img)\n",
    "img = img/255"
   ]
  },
  {
   "cell_type": "code",
   "execution_count": null,
   "id": "f489e02b-21d6-4a5b-9fed-b6c8f016705b",
   "metadata": {
    "tags": []
   },
   "outputs": [],
   "source": [
    "classes = np.array(train.columns[2:])\n",
    "proba = model.predict(img.reshape(1,256,256,3))\n",
    "top_3 = np.argsort(proba[0])[:-4:-1]\n",
    "for i in range(3):\n",
    "    print(\"{}\".format(classes[top_3[i]])+\" ({:.3})\".format(proba[0][top_3[i]]))\n",
    "plt.imshow(img)"
   ]
  },
  {
   "cell_type": "code",
   "execution_count": null,
   "id": "d2f24883-ab7e-4830-8f30-b7ffc6412c2b",
   "metadata": {},
   "outputs": [],
   "source": []
  }
 ],
 "metadata": {
  "kernelspec": {
   "display_name": "type_prediction",
   "language": "python",
   "name": "type_prediction"
  },
  "language_info": {
   "codemirror_mode": {
    "name": "ipython",
    "version": 3
   },
   "file_extension": ".py",
   "mimetype": "text/x-python",
   "name": "python",
   "nbconvert_exporter": "python",
   "pygments_lexer": "ipython3",
   "version": "3.9.12"
  }
 },
 "nbformat": 4,
 "nbformat_minor": 5
}
