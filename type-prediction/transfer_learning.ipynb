{
 "cells": [
  {
   "cell_type": "code",
   "execution_count": 1,
   "id": "6ec86c79-1e0f-4358-8296-0bac555be908",
   "metadata": {
    "tags": []
   },
   "outputs": [],
   "source": [
    "import keras\n",
    "from keras.models import Sequential\n",
    "from keras.layers import Dense, Dropout, Flatten\n",
    "from keras.layers import Conv2D, MaxPooling2D\n",
    "from tensorflow.keras.utils import to_categorical\n",
    "from keras.preprocessing import image\n",
    "import numpy as np\n",
    "import pandas as pd\n",
    "import matplotlib.pyplot as plt\n",
    "from sklearn.model_selection import train_test_split\n",
    "from tqdm import tqdm\n",
    "%matplotlib inline"
   ]
  },
  {
   "cell_type": "code",
   "execution_count": 2,
   "id": "82817ef6-8231-4f7f-9897-6b9d61b7061e",
   "metadata": {
    "tags": []
   },
   "outputs": [
    {
     "data": {
      "text/plain": [
       "[PhysicalDevice(name='/physical_device:GPU:0', device_type='GPU')]"
      ]
     },
     "execution_count": 2,
     "metadata": {},
     "output_type": "execute_result"
    }
   ],
   "source": [
    "import tensorflow as tf\n",
    "gpus = tf.config.list_physical_devices('GPU')\n",
    "gpus"
   ]
  },
  {
   "cell_type": "code",
   "execution_count": 3,
   "id": "f7259372-7421-4425-9795-0a5479abca81",
   "metadata": {},
   "outputs": [
    {
     "data": {
      "text/html": [
       "<div>\n",
       "<style scoped>\n",
       "    .dataframe tbody tr th:only-of-type {\n",
       "        vertical-align: middle;\n",
       "    }\n",
       "\n",
       "    .dataframe tbody tr th {\n",
       "        vertical-align: top;\n",
       "    }\n",
       "\n",
       "    .dataframe thead th {\n",
       "        text-align: right;\n",
       "    }\n",
       "</style>\n",
       "<table border=\"1\" class=\"dataframe\">\n",
       "  <thead>\n",
       "    <tr style=\"text-align: right;\">\n",
       "      <th></th>\n",
       "      <th>Key</th>\n",
       "      <th>Type</th>\n",
       "      <th>normal</th>\n",
       "      <th>fire</th>\n",
       "      <th>water</th>\n",
       "      <th>grass</th>\n",
       "      <th>electric</th>\n",
       "      <th>ice</th>\n",
       "      <th>fighting</th>\n",
       "      <th>poison</th>\n",
       "      <th>ground</th>\n",
       "      <th>flying</th>\n",
       "      <th>psychic</th>\n",
       "      <th>bug</th>\n",
       "      <th>rock</th>\n",
       "      <th>ghost</th>\n",
       "      <th>dragon</th>\n",
       "      <th>dark</th>\n",
       "      <th>steel</th>\n",
       "      <th>fairy</th>\n",
       "    </tr>\n",
       "  </thead>\n",
       "  <tbody>\n",
       "    <tr>\n",
       "      <th>0</th>\n",
       "      <td>110.95</td>\n",
       "      <td>poison, ground</td>\n",
       "      <td>0</td>\n",
       "      <td>0</td>\n",
       "      <td>0</td>\n",
       "      <td>0</td>\n",
       "      <td>0</td>\n",
       "      <td>0</td>\n",
       "      <td>0</td>\n",
       "      <td>1</td>\n",
       "      <td>1</td>\n",
       "      <td>0</td>\n",
       "      <td>0</td>\n",
       "      <td>0</td>\n",
       "      <td>0</td>\n",
       "      <td>0</td>\n",
       "      <td>0</td>\n",
       "      <td>0</td>\n",
       "      <td>0</td>\n",
       "      <td>0</td>\n",
       "    </tr>\n",
       "    <tr>\n",
       "      <th>1</th>\n",
       "      <td>155.408</td>\n",
       "      <td>fire, fairy</td>\n",
       "      <td>0</td>\n",
       "      <td>1</td>\n",
       "      <td>0</td>\n",
       "      <td>0</td>\n",
       "      <td>0</td>\n",
       "      <td>0</td>\n",
       "      <td>0</td>\n",
       "      <td>0</td>\n",
       "      <td>0</td>\n",
       "      <td>0</td>\n",
       "      <td>0</td>\n",
       "      <td>0</td>\n",
       "      <td>0</td>\n",
       "      <td>0</td>\n",
       "      <td>0</td>\n",
       "      <td>0</td>\n",
       "      <td>0</td>\n",
       "      <td>1</td>\n",
       "    </tr>\n",
       "    <tr>\n",
       "      <th>2</th>\n",
       "      <td>360.381</td>\n",
       "      <td>grass, psychic</td>\n",
       "      <td>0</td>\n",
       "      <td>0</td>\n",
       "      <td>0</td>\n",
       "      <td>1</td>\n",
       "      <td>0</td>\n",
       "      <td>0</td>\n",
       "      <td>0</td>\n",
       "      <td>0</td>\n",
       "      <td>0</td>\n",
       "      <td>0</td>\n",
       "      <td>1</td>\n",
       "      <td>0</td>\n",
       "      <td>0</td>\n",
       "      <td>0</td>\n",
       "      <td>0</td>\n",
       "      <td>0</td>\n",
       "      <td>0</td>\n",
       "      <td>0</td>\n",
       "    </tr>\n",
       "    <tr>\n",
       "      <th>3</th>\n",
       "      <td>6.142e</td>\n",
       "      <td>fire, flying</td>\n",
       "      <td>0</td>\n",
       "      <td>1</td>\n",
       "      <td>0</td>\n",
       "      <td>0</td>\n",
       "      <td>0</td>\n",
       "      <td>0</td>\n",
       "      <td>0</td>\n",
       "      <td>0</td>\n",
       "      <td>0</td>\n",
       "      <td>1</td>\n",
       "      <td>0</td>\n",
       "      <td>0</td>\n",
       "      <td>0</td>\n",
       "      <td>0</td>\n",
       "      <td>0</td>\n",
       "      <td>0</td>\n",
       "      <td>0</td>\n",
       "      <td>0</td>\n",
       "    </tr>\n",
       "    <tr>\n",
       "      <th>4</th>\n",
       "      <td>289.175</td>\n",
       "      <td>bug, fairy</td>\n",
       "      <td>0</td>\n",
       "      <td>0</td>\n",
       "      <td>0</td>\n",
       "      <td>0</td>\n",
       "      <td>0</td>\n",
       "      <td>0</td>\n",
       "      <td>0</td>\n",
       "      <td>0</td>\n",
       "      <td>0</td>\n",
       "      <td>0</td>\n",
       "      <td>0</td>\n",
       "      <td>1</td>\n",
       "      <td>0</td>\n",
       "      <td>0</td>\n",
       "      <td>0</td>\n",
       "      <td>0</td>\n",
       "      <td>0</td>\n",
       "      <td>1</td>\n",
       "    </tr>\n",
       "  </tbody>\n",
       "</table>\n",
       "</div>"
      ],
      "text/plain": [
       "       Key            Type  normal  fire  water  grass  electric  ice  \\\n",
       "0   110.95  poison, ground       0     0      0      0         0    0   \n",
       "1  155.408     fire, fairy       0     1      0      0         0    0   \n",
       "2  360.381  grass, psychic       0     0      0      1         0    0   \n",
       "3   6.142e    fire, flying       0     1      0      0         0    0   \n",
       "4  289.175      bug, fairy       0     0      0      0         0    0   \n",
       "\n",
       "   fighting  poison  ground  flying  psychic  bug  rock  ghost  dragon  dark  \\\n",
       "0         0       1       1       0        0    0     0      0       0     0   \n",
       "1         0       0       0       0        0    0     0      0       0     0   \n",
       "2         0       0       0       0        1    0     0      0       0     0   \n",
       "3         0       0       0       1        0    0     0      0       0     0   \n",
       "4         0       0       0       0        0    1     0      0       0     0   \n",
       "\n",
       "   steel  fairy  \n",
       "0      0      0  \n",
       "1      0      1  \n",
       "2      0      0  \n",
       "3      0      0  \n",
       "4      0      1  "
      ]
     },
     "execution_count": 3,
     "metadata": {},
     "output_type": "execute_result"
    }
   ],
   "source": [
    "train = pd.read_csv('image_tagging/train.csv') # set limit, delete \"nrows\" to undo\n",
    "train.drop(['Name'],axis=1,inplace=True)\n",
    "train.drop(train[train[\"Key\"] == \"182.429\"].index, inplace=True) # invalid row\n",
    "train.reset_index(drop=True, inplace=True)\n",
    "train.head()"
   ]
  },
  {
   "cell_type": "code",
   "execution_count": 4,
   "id": "41d688f9-70a8-4e01-ba2d-cc73d8fb2701",
   "metadata": {
    "tags": []
   },
   "outputs": [
    {
     "data": {
      "text/plain": [
       "Index(['Key', 'Type', 'normal', 'fire', 'water', 'grass', 'electric', 'ice',\n",
       "       'fighting', 'poison', 'ground', 'flying', 'psychic', 'bug', 'rock',\n",
       "       'ghost', 'dragon', 'dark', 'steel', 'fairy'],\n",
       "      dtype='object')"
      ]
     },
     "execution_count": 4,
     "metadata": {},
     "output_type": "execute_result"
    }
   ],
   "source": [
    "train.columns"
   ]
  },
  {
   "cell_type": "code",
   "execution_count": 5,
   "id": "cf8fbcb5-39c0-4744-a1ad-035639648dbe",
   "metadata": {
    "tags": []
   },
   "outputs": [
    {
     "name": "stderr",
     "output_type": "stream",
     "text": [
      "100%|██████████| 81649/81649 [01:57<00:00, 692.87it/s]\n"
     ]
    }
   ],
   "source": [
    "TRAINING_DATASET = \"/blue/rcstudents/smaley/pokegan/customsprites/blk_bg/input\"\n",
    "# IMAGE_SIZE = (256,256,3)\n",
    "IMAGE_SIZE = (64,64,3) # try scaling down\n",
    "\n",
    "train_image = []\n",
    "for i in tqdm(range(train.shape[0])):\n",
    "    img = image.load_img(f\"{TRAINING_DATASET}/{train.at[i, 'Key']}.png\",target_size=IMAGE_SIZE)\n",
    "    img = image.img_to_array(img)\n",
    "    img = img/255\n",
    "    train_image.append(img)\n",
    "X = np.array(train_image)"
   ]
  },
  {
   "cell_type": "code",
   "execution_count": 6,
   "id": "68df5a8c-0f29-4f25-b8bc-757f6f51b78d",
   "metadata": {
    "tags": []
   },
   "outputs": [
    {
     "data": {
      "text/plain": [
       "(81649, 64, 64, 3)"
      ]
     },
     "execution_count": 6,
     "metadata": {},
     "output_type": "execute_result"
    }
   ],
   "source": [
    "X.shape"
   ]
  },
  {
   "cell_type": "code",
   "execution_count": 7,
   "id": "45250d27-6ef4-44ad-a0f1-571fbff855f1",
   "metadata": {
    "tags": []
   },
   "outputs": [
    {
     "data": {
      "text/plain": [
       "<matplotlib.image.AxesImage at 0x151ad030e1f0>"
      ]
     },
     "execution_count": 7,
     "metadata": {},
     "output_type": "execute_result"
    },
    {
     "data": {
      "image/png": "[encoded data removed]",
      "text/plain": [
       "<Figure size 432x288 with 1 Axes>"
      ]
     },
     "metadata": {
      "needs_background": "light"
     },
     "output_type": "display_data"
    }
   ],
   "source": [
    "plt.imshow(X[2])"
   ]
  },
  {
   "cell_type": "code",
   "execution_count": 8,
   "id": "bae46b17-35dd-4587-84f2-c7274284949b",
   "metadata": {
    "tags": []
   },
   "outputs": [
    {
     "data": {
      "text/plain": [
       "'grass, psychic'"
      ]
     },
     "execution_count": 8,
     "metadata": {},
     "output_type": "execute_result"
    }
   ],
   "source": [
    "train['Type'][2]"
   ]
  },
  {
   "cell_type": "code",
   "execution_count": 9,
   "id": "8df522a6-9694-4242-94ea-ff63c6681015",
   "metadata": {
    "tags": []
   },
   "outputs": [
    {
     "data": {
      "text/plain": [
       "(81649, 18)"
      ]
     },
     "execution_count": 9,
     "metadata": {},
     "output_type": "execute_result"
    }
   ],
   "source": [
    "y = np.array(train.drop(['Key', 'Type'],axis=1))\n",
    "y.shape"
   ]
  },
  {
   "cell_type": "code",
   "execution_count": 10,
   "id": "b303bc6c-9cad-4de2-a24f-51b315f88c3f",
   "metadata": {
    "tags": []
   },
   "outputs": [],
   "source": [
    "X_train, X_test, y_train, y_test = train_test_split(X, y, random_state=42, test_size=0.1)"
   ]
  },
  {
   "cell_type": "code",
   "execution_count": 13,
   "id": "645d4ba7-1c0f-47f9-8cf5-2c1400185d11",
   "metadata": {
    "tags": []
   },
   "outputs": [
    {
     "name": "stderr",
     "output_type": "stream",
     "text": [
      "2024-12-04 14:16:55.544138: I tensorflow/core/platform/cpu_feature_guard.cc:151] This TensorFlow binary is optimized with oneAPI Deep Neural Network Library (oneDNN) to use the following CPU instructions in performance-critical operations:  SSE4.1 SSE4.2 AVX AVX2 FMA\n",
      "To enable them in other operations, rebuild TensorFlow with the appropriate compiler flags.\n",
      "2024-12-04 14:16:56.256745: I tensorflow/core/common_runtime/gpu/gpu_device.cc:1525] Created device /job:localhost/replica:0/task:0/device:GPU:0 with 78902 MB memory:  -> device: 0, name: NVIDIA A100-SXM4-80GB, pci bus id: 0000:07:00.0, compute capability: 8.0\n"
     ]
    },
    {
     "name": "stdout",
     "output_type": "stream",
     "text": [
      "Downloading data from https://storage.googleapis.com/keras-applications/efficientnetb0_notop.h5\n",
      "16711680/16705208 [==============================] - 0s 0us/step\n",
      "16719872/16705208 [==============================] - 0s 0us/step\n"
     ]
    }
   ],
   "source": [
    "from tensorflow.keras.applications import EfficientNetB0\n",
    "from tensorflow.keras.models import Sequential\n",
    "from tensorflow.keras.layers import Dense, Dropout, Flatten, BatchNormalization, GlobalAveragePooling2D\n",
    "from tensorflow.keras.optimizers import Adam\n",
    "from tensorflow.keras.callbacks import EarlyStopping, ReduceLROnPlateau\n",
    "\n",
    "# Callbacks\n",
    "early_stop = EarlyStopping(monitor='val_loss', patience=10, restore_best_weights=True)\n",
    "reduce_lr = ReduceLROnPlateau(monitor='val_loss', factor=0.5, patience=5, min_lr=1e-6)\n",
    "\n",
    "# Load Pretrained Base Model\n",
    "base_model = EfficientNetB0(weights='imagenet', include_top=False, input_shape=(64, 64, 3))\n",
    "base_model.trainable = False  # Freeze the base model\n",
    "\n",
    "# Build the Model\n",
    "model = Sequential([\n",
    "    base_model,\n",
    "    GlobalAveragePooling2D(),  # Reduces feature maps to a single vector\n",
    "    Dense(256, activation='relu'),  # Custom dense layer\n",
    "    BatchNormalization(),\n",
    "    Dropout(0.5),\n",
    "    Dense(128, activation='relu'),  # Another dense layer\n",
    "    BatchNormalization(),\n",
    "    Dropout(0.5),\n",
    "    Dense(18, activation='sigmoid')  # Output layer for multi-label classification\n",
    "])"
   ]
  },
  {
   "cell_type": "code",
   "execution_count": 14,
   "id": "6ac8619f-9eaa-4c66-8797-a0ddc92170b0",
   "metadata": {
    "tags": []
   },
   "outputs": [
    {
     "name": "stdout",
     "output_type": "stream",
     "text": [
      "Model: \"sequential\"\n",
      "_________________________________________________________________\n",
      " Layer (type)                Output Shape              Param #   \n",
      "=================================================================\n",
      " efficientnetb0 (Functional)  (None, 2, 2, 1280)       4049571   \n",
      "                                                                 \n",
      " global_average_pooling2d (G  (None, 1280)             0         \n",
      " lobalAveragePooling2D)                                          \n",
      "                                                                 \n",
      " dense (Dense)               (None, 256)               327936    \n",
      "                                                                 \n",
      " batch_normalization (BatchN  (None, 256)              1024      \n",
      " ormalization)                                                   \n",
      "                                                                 \n",
      " dropout (Dropout)           (None, 256)               0         \n",
      "                                                                 \n",
      " dense_1 (Dense)             (None, 128)               32896     \n",
      "                                                                 \n",
      " batch_normalization_1 (Batc  (None, 128)              512       \n",
      " hNormalization)                                                 \n",
      "                                                                 \n",
      " dropout_1 (Dropout)         (None, 128)               0         \n",
      "                                                                 \n",
      " dense_2 (Dense)             (None, 18)                2322      \n",
      "                                                                 \n",
      "=================================================================\n",
      "Total params: 4,414,261\n",
      "Trainable params: 363,922\n",
      "Non-trainable params: 4,050,339\n",
      "_________________________________________________________________\n"
     ]
    }
   ],
   "source": [
    "model.summary()"
   ]
  },
  {
   "cell_type": "code",
   "execution_count": 15,
   "id": "b3b54566-2d6b-4ada-bb73-332e73252b8c",
   "metadata": {
    "tags": []
   },
   "outputs": [],
   "source": [
    "# Compile the Model\n",
    "model.compile(optimizer=Adam(learning_rate=1e-4), \n",
    "              loss='binary_crossentropy', \n",
    "              metrics=['accuracy',tf.keras.metrics.TopKCategoricalAccuracy(k=2)])"
   ]
  },
  {
   "cell_type": "code",
   "execution_count": 17,
   "id": "0d34e2f3-ec54-439f-a8e2-e81f31ee11d2",
   "metadata": {
    "collapsed": true,
    "jupyter": {
     "outputs_hidden": true
    },
    "tags": []
   },
   "outputs": [
    {
     "name": "stdout",
     "output_type": "stream",
     "text": [
      "Epoch 1/50\n"
     ]
    },
    {
     "name": "stderr",
     "output_type": "stream",
     "text": [
      "2024-12-04 14:17:47.179382: I tensorflow/stream_executor/cuda/cuda_dnn.cc:366] Loaded cuDNN version 8201\n",
      "2024-12-04 14:17:47.842749: I tensorflow/core/platform/default/subprocess.cc:304] Start cannot spawn child process: No such file or directory\n",
      "2024-12-04 14:17:47.843868: I tensorflow/core/platform/default/subprocess.cc:304] Start cannot spawn child process: No such file or directory\n",
      "2024-12-04 14:17:47.843905: W tensorflow/stream_executor/gpu/asm_compiler.cc:80] Couldn't get ptxas version string: INTERNAL: Couldn't invoke ptxas --version\n",
      "2024-12-04 14:17:47.844661: I tensorflow/core/platform/default/subprocess.cc:304] Start cannot spawn child process: No such file or directory\n",
      "2024-12-04 14:17:47.844719: W tensorflow/stream_executor/gpu/redzone_allocator.cc:314] INTERNAL: Failed to launch ptxas\n",
      "Relying on driver to perform ptx compilation. \n",
      "Modify $PATH to customize ptxas location.\n",
      "This message will be only logged once.\n"
     ]
    },
    {
     "name": "stdout",
     "output_type": "stream",
     "text": [
      "  20/2297 [..............................] - ETA: 18s - loss: 0.9861 - accuracy: 0.0547 - top_k_categorical_accuracy: 0.1094"
     ]
    },
    {
     "name": "stderr",
     "output_type": "stream",
     "text": [
      "2024-12-04 14:17:48.821647: I tensorflow/stream_executor/cuda/cuda_blas.cc:1774] TensorFloat-32 will be used for the matrix multiplication. This will only be logged once.\n"
     ]
    },
    {
     "name": "stdout",
     "output_type": "stream",
     "text": [
      "2297/2297 [==============================] - 27s 10ms/step - loss: 0.6590 - accuracy: 0.0711 - top_k_categorical_accuracy: 0.1382 - val_loss: 0.3857 - val_accuracy: 0.2158 - val_top_k_categorical_accuracy: 0.3084 - lr: 1.0000e-04\n",
      "Epoch 2/50\n",
      "2297/2297 [==============================] - 21s 9ms/step - loss: 0.3869 - accuracy: 0.1310 - top_k_categorical_accuracy: 0.2341 - val_loss: 0.3346 - val_accuracy: 0.2158 - val_top_k_categorical_accuracy: 0.3776 - lr: 1.0000e-04\n",
      "Epoch 3/50\n",
      "2297/2297 [==============================] - 22s 9ms/step - loss: 0.3655 - accuracy: 0.1595 - top_k_categorical_accuracy: 0.2858 - val_loss: 0.3345 - val_accuracy: 0.2158 - val_top_k_categorical_accuracy: 0.3776 - lr: 1.0000e-04\n",
      "Epoch 4/50\n",
      "2297/2297 [==============================] - 21s 9ms/step - loss: 0.3563 - accuracy: 0.1737 - top_k_categorical_accuracy: 0.3122 - val_loss: 0.3343 - val_accuracy: 0.2158 - val_top_k_categorical_accuracy: 0.3776 - lr: 1.0000e-04\n",
      "Epoch 5/50\n",
      "2297/2297 [==============================] - 21s 9ms/step - loss: 0.3504 - accuracy: 0.1808 - top_k_categorical_accuracy: 0.3305 - val_loss: 0.3344 - val_accuracy: 0.2158 - val_top_k_categorical_accuracy: 0.3776 - lr: 1.0000e-04\n",
      "Epoch 6/50\n",
      "2297/2297 [==============================] - 21s 9ms/step - loss: 0.3463 - accuracy: 0.1880 - top_k_categorical_accuracy: 0.3468 - val_loss: 0.3344 - val_accuracy: 0.2158 - val_top_k_categorical_accuracy: 0.3776 - lr: 1.0000e-04\n",
      "Epoch 7/50\n",
      "2297/2297 [==============================] - 21s 9ms/step - loss: 0.3438 - accuracy: 0.1942 - top_k_categorical_accuracy: 0.3532 - val_loss: 0.3344 - val_accuracy: 0.2158 - val_top_k_categorical_accuracy: 0.3776 - lr: 1.0000e-04\n",
      "Epoch 8/50\n",
      "2297/2297 [==============================] - 21s 9ms/step - loss: 0.3419 - accuracy: 0.1982 - top_k_categorical_accuracy: 0.3592 - val_loss: 0.3343 - val_accuracy: 0.2158 - val_top_k_categorical_accuracy: 0.3776 - lr: 1.0000e-04\n",
      "Epoch 9/50\n",
      "2297/2297 [==============================] - 20s 9ms/step - loss: 0.3404 - accuracy: 0.2020 - top_k_categorical_accuracy: 0.3630 - val_loss: 0.3344 - val_accuracy: 0.2158 - val_top_k_categorical_accuracy: 0.3776 - lr: 1.0000e-04\n",
      "Epoch 10/50\n",
      "2297/2297 [==============================] - 21s 9ms/step - loss: 0.3397 - accuracy: 0.2055 - top_k_categorical_accuracy: 0.3648 - val_loss: 0.3344 - val_accuracy: 0.2158 - val_top_k_categorical_accuracy: 0.3776 - lr: 5.0000e-05\n",
      "Epoch 11/50\n",
      "2297/2297 [==============================] - 21s 9ms/step - loss: 0.3392 - accuracy: 0.2057 - top_k_categorical_accuracy: 0.3670 - val_loss: 0.3344 - val_accuracy: 0.2158 - val_top_k_categorical_accuracy: 0.3776 - lr: 5.0000e-05\n",
      "Epoch 12/50\n",
      "2297/2297 [==============================] - 20s 9ms/step - loss: 0.3387 - accuracy: 0.2075 - top_k_categorical_accuracy: 0.3673 - val_loss: 0.3343 - val_accuracy: 0.2158 - val_top_k_categorical_accuracy: 0.3776 - lr: 5.0000e-05\n",
      "Epoch 13/50\n",
      "2297/2297 [==============================] - 21s 9ms/step - loss: 0.3384 - accuracy: 0.2076 - top_k_categorical_accuracy: 0.3680 - val_loss: 0.3343 - val_accuracy: 0.2158 - val_top_k_categorical_accuracy: 0.3776 - lr: 5.0000e-05\n",
      "Epoch 14/50\n",
      "2297/2297 [==============================] - 22s 9ms/step - loss: 0.3382 - accuracy: 0.2084 - top_k_categorical_accuracy: 0.3686 - val_loss: 0.3344 - val_accuracy: 0.2158 - val_top_k_categorical_accuracy: 0.3776 - lr: 5.0000e-05\n",
      "Epoch 15/50\n",
      "2297/2297 [==============================] - 21s 9ms/step - loss: 0.3379 - accuracy: 0.2095 - top_k_categorical_accuracy: 0.3690 - val_loss: 0.3343 - val_accuracy: 0.2158 - val_top_k_categorical_accuracy: 0.3776 - lr: 2.5000e-05\n",
      "Epoch 16/50\n",
      "2297/2297 [==============================] - 21s 9ms/step - loss: 0.3377 - accuracy: 0.2101 - top_k_categorical_accuracy: 0.3696 - val_loss: 0.3343 - val_accuracy: 0.2158 - val_top_k_categorical_accuracy: 0.3776 - lr: 2.5000e-05\n",
      "Epoch 17/50\n",
      "2297/2297 [==============================] - 20s 9ms/step - loss: 0.3377 - accuracy: 0.2097 - top_k_categorical_accuracy: 0.3701 - val_loss: 0.3343 - val_accuracy: 0.2158 - val_top_k_categorical_accuracy: 0.3776 - lr: 2.5000e-05\n",
      "Epoch 18/50\n",
      "2297/2297 [==============================] - 21s 9ms/step - loss: 0.3376 - accuracy: 0.2111 - top_k_categorical_accuracy: 0.3698 - val_loss: 0.3343 - val_accuracy: 0.2158 - val_top_k_categorical_accuracy: 0.3776 - lr: 2.5000e-05\n",
      "Epoch 19/50\n",
      "2297/2297 [==============================] - 22s 9ms/step - loss: 0.3376 - accuracy: 0.2112 - top_k_categorical_accuracy: 0.3705 - val_loss: 0.3343 - val_accuracy: 0.2158 - val_top_k_categorical_accuracy: 0.3776 - lr: 2.5000e-05\n",
      "Epoch 20/50\n",
      "2297/2297 [==============================] - 21s 9ms/step - loss: 0.3374 - accuracy: 0.2109 - top_k_categorical_accuracy: 0.3698 - val_loss: 0.3343 - val_accuracy: 0.2158 - val_top_k_categorical_accuracy: 0.3776 - lr: 1.2500e-05\n",
      "Epoch 21/50\n",
      "2297/2297 [==============================] - 22s 9ms/step - loss: 0.3374 - accuracy: 0.2103 - top_k_categorical_accuracy: 0.3701 - val_loss: 0.3343 - val_accuracy: 0.2158 - val_top_k_categorical_accuracy: 0.3776 - lr: 1.2500e-05\n",
      "Epoch 22/50\n",
      "2297/2297 [==============================] - 21s 9ms/step - loss: 0.3374 - accuracy: 0.2105 - top_k_categorical_accuracy: 0.3710 - val_loss: 0.3343 - val_accuracy: 0.2158 - val_top_k_categorical_accuracy: 0.3776 - lr: 1.2500e-05\n",
      "Epoch 23/50\n",
      "2297/2297 [==============================] - 22s 10ms/step - loss: 0.3373 - accuracy: 0.2109 - top_k_categorical_accuracy: 0.3710 - val_loss: 0.3343 - val_accuracy: 0.2158 - val_top_k_categorical_accuracy: 0.3776 - lr: 1.2500e-05\n",
      "Epoch 24/50\n",
      "2297/2297 [==============================] - 22s 9ms/step - loss: 0.3373 - accuracy: 0.2105 - top_k_categorical_accuracy: 0.3705 - val_loss: 0.3343 - val_accuracy: 0.2158 - val_top_k_categorical_accuracy: 0.3776 - lr: 1.2500e-05\n",
      "Epoch 25/50\n",
      "2297/2297 [==============================] - 22s 9ms/step - loss: 0.3372 - accuracy: 0.2117 - top_k_categorical_accuracy: 0.3711 - val_loss: 0.3343 - val_accuracy: 0.2158 - val_top_k_categorical_accuracy: 0.3776 - lr: 6.2500e-06\n",
      "Epoch 26/50\n",
      "2297/2297 [==============================] - 22s 9ms/step - loss: 0.3372 - accuracy: 0.2108 - top_k_categorical_accuracy: 0.3710 - val_loss: 0.3343 - val_accuracy: 0.2158 - val_top_k_categorical_accuracy: 0.3776 - lr: 6.2500e-06\n",
      "Epoch 27/50\n",
      "2297/2297 [==============================] - 22s 9ms/step - loss: 0.3371 - accuracy: 0.2114 - top_k_categorical_accuracy: 0.3708 - val_loss: 0.3343 - val_accuracy: 0.2158 - val_top_k_categorical_accuracy: 0.3776 - lr: 6.2500e-06\n",
      "Epoch 28/50\n",
      "2297/2297 [==============================] - 21s 9ms/step - loss: 0.3372 - accuracy: 0.2114 - top_k_categorical_accuracy: 0.3710 - val_loss: 0.3343 - val_accuracy: 0.2158 - val_top_k_categorical_accuracy: 0.3776 - lr: 6.2500e-06\n",
      "Epoch 29/50\n",
      "2297/2297 [==============================] - 20s 9ms/step - loss: 0.3372 - accuracy: 0.2115 - top_k_categorical_accuracy: 0.3714 - val_loss: 0.3343 - val_accuracy: 0.2158 - val_top_k_categorical_accuracy: 0.3776 - lr: 6.2500e-06\n",
      "Epoch 30/50\n",
      "2297/2297 [==============================] - 21s 9ms/step - loss: 0.3371 - accuracy: 0.2118 - top_k_categorical_accuracy: 0.3713 - val_loss: 0.3343 - val_accuracy: 0.2158 - val_top_k_categorical_accuracy: 0.3776 - lr: 3.1250e-06\n",
      "Epoch 31/50\n",
      "2297/2297 [==============================] - 21s 9ms/step - loss: 0.3371 - accuracy: 0.2115 - top_k_categorical_accuracy: 0.3712 - val_loss: 0.3343 - val_accuracy: 0.2158 - val_top_k_categorical_accuracy: 0.3776 - lr: 3.1250e-06\n"
     ]
    }
   ],
   "source": [
    "# Fine-Tuning\n",
    "history = model.fit(\n",
    "    X_train, y_train,\n",
    "    validation_data=(X_test, y_test),\n",
    "    epochs=50,\n",
    "    callbacks=[reduce_lr, early_stop]\n",
    ")"
   ]
  },
  {
   "cell_type": "code",
   "execution_count": 18,
   "id": "b7799588-96e7-47d5-9dfe-e95720d7512f",
   "metadata": {
    "tags": []
   },
   "outputs": [
    {
     "name": "stderr",
     "output_type": "stream",
     "text": [
      "/apps/tensorflow/2.7.0/lib/python3.9/site-packages/keras/engine/functional.py:1410: CustomMaskWarning: Custom mask layers require a config and must override get_config. When loading, the custom mask layer must be passed to the custom_objects argument.\n",
      "  layer_config = serialize_layer_fn(layer)\n"
     ]
    }
   ],
   "source": [
    "model.save('64_transfer_finetune_50_epoch.keras')"
   ]
  },
  {
   "cell_type": "code",
   "execution_count": 19,
   "id": "14bd9015-84b5-4bf5-b592-be229f5044bc",
   "metadata": {
    "collapsed": true,
    "jupyter": {
     "outputs_hidden": true
    },
    "tags": []
   },
   "outputs": [
    {
     "name": "stdout",
     "output_type": "stream",
     "text": [
      "Epoch 1/30\n",
      "2297/2297 [==============================] - 66s 26ms/step - loss: 0.3381 - accuracy: 0.2102 - top_k_categorical_accuracy: 0.3717 - val_loss: 0.3343 - val_accuracy: 0.2158 - val_top_k_categorical_accuracy: 0.3776 - lr: 1.0000e-05\n",
      "Epoch 2/30\n",
      "2297/2297 [==============================] - 59s 25ms/step - loss: 0.3367 - accuracy: 0.2112 - top_k_categorical_accuracy: 0.3727 - val_loss: 0.3326 - val_accuracy: 0.2170 - val_top_k_categorical_accuracy: 0.3816 - lr: 1.0000e-05\n",
      "Epoch 3/30\n",
      "2297/2297 [==============================] - 58s 25ms/step - loss: 0.3346 - accuracy: 0.2202 - top_k_categorical_accuracy: 0.3809 - val_loss: 0.3327 - val_accuracy: 0.2094 - val_top_k_categorical_accuracy: 0.3805 - lr: 1.0000e-05\n",
      "Epoch 4/30\n",
      "2297/2297 [==============================] - 58s 25ms/step - loss: 0.3327 - accuracy: 0.2266 - top_k_categorical_accuracy: 0.3919 - val_loss: 0.3318 - val_accuracy: 0.1988 - val_top_k_categorical_accuracy: 0.3867 - lr: 1.0000e-05\n",
      "Epoch 5/30\n",
      "2297/2297 [==============================] - 60s 26ms/step - loss: 0.3307 - accuracy: 0.2373 - top_k_categorical_accuracy: 0.4017 - val_loss: 0.3279 - val_accuracy: 0.2316 - val_top_k_categorical_accuracy: 0.3994 - lr: 1.0000e-05\n",
      "Epoch 6/30\n",
      "2297/2297 [==============================] - 59s 26ms/step - loss: 0.3287 - accuracy: 0.2533 - top_k_categorical_accuracy: 0.4100 - val_loss: 0.3293 - val_accuracy: 0.2208 - val_top_k_categorical_accuracy: 0.3672 - lr: 1.0000e-05\n",
      "Epoch 7/30\n",
      "2297/2297 [==============================] - 59s 26ms/step - loss: 0.3268 - accuracy: 0.2628 - top_k_categorical_accuracy: 0.4120 - val_loss: 0.3261 - val_accuracy: 0.2424 - val_top_k_categorical_accuracy: 0.3722 - lr: 1.0000e-05\n",
      "Epoch 8/30\n",
      "2297/2297 [==============================] - 60s 26ms/step - loss: 0.3251 - accuracy: 0.2697 - top_k_categorical_accuracy: 0.4171 - val_loss: 0.3271 - val_accuracy: 0.2342 - val_top_k_categorical_accuracy: 0.3579 - lr: 1.0000e-05\n",
      "Epoch 9/30\n",
      "2297/2297 [==============================] - 58s 25ms/step - loss: 0.3236 - accuracy: 0.2759 - top_k_categorical_accuracy: 0.4176 - val_loss: 0.3210 - val_accuracy: 0.2653 - val_top_k_categorical_accuracy: 0.3974 - lr: 1.0000e-05\n",
      "Epoch 10/30\n",
      "2297/2297 [==============================] - 58s 25ms/step - loss: 0.3223 - accuracy: 0.2784 - top_k_categorical_accuracy: 0.4195 - val_loss: 0.3219 - val_accuracy: 0.2614 - val_top_k_categorical_accuracy: 0.3798 - lr: 1.0000e-05\n",
      "Epoch 11/30\n",
      "2297/2297 [==============================] - 58s 25ms/step - loss: 0.3208 - accuracy: 0.2855 - top_k_categorical_accuracy: 0.4218 - val_loss: 0.3180 - val_accuracy: 0.2781 - val_top_k_categorical_accuracy: 0.4010 - lr: 1.0000e-05\n",
      "Epoch 12/30\n",
      "2297/2297 [==============================] - 58s 25ms/step - loss: 0.3192 - accuracy: 0.2901 - top_k_categorical_accuracy: 0.4249 - val_loss: 0.3160 - val_accuracy: 0.2868 - val_top_k_categorical_accuracy: 0.4118 - lr: 1.0000e-05\n",
      "Epoch 13/30\n",
      "2297/2297 [==============================] - 60s 26ms/step - loss: 0.3179 - accuracy: 0.2937 - top_k_categorical_accuracy: 0.4264 - val_loss: 0.3159 - val_accuracy: 0.2903 - val_top_k_categorical_accuracy: 0.4113 - lr: 1.0000e-05\n",
      "Epoch 14/30\n",
      "2297/2297 [==============================] - 59s 26ms/step - loss: 0.3164 - accuracy: 0.2989 - top_k_categorical_accuracy: 0.4281 - val_loss: 0.3159 - val_accuracy: 0.2845 - val_top_k_categorical_accuracy: 0.4096 - lr: 1.0000e-05\n",
      "Epoch 15/30\n",
      "2297/2297 [==============================] - 59s 25ms/step - loss: 0.3148 - accuracy: 0.3033 - top_k_categorical_accuracy: 0.4301 - val_loss: 0.3148 - val_accuracy: 0.2904 - val_top_k_categorical_accuracy: 0.4137 - lr: 1.0000e-05\n",
      "Epoch 16/30\n",
      "2297/2297 [==============================] - 59s 26ms/step - loss: 0.3133 - accuracy: 0.3076 - top_k_categorical_accuracy: 0.4352 - val_loss: 0.3123 - val_accuracy: 0.3004 - val_top_k_categorical_accuracy: 0.4240 - lr: 1.0000e-05\n",
      "Epoch 17/30\n",
      "2297/2297 [==============================] - 59s 26ms/step - loss: 0.3117 - accuracy: 0.3110 - top_k_categorical_accuracy: 0.4363 - val_loss: 0.3141 - val_accuracy: 0.2930 - val_top_k_categorical_accuracy: 0.4043 - lr: 1.0000e-05\n",
      "Epoch 18/30\n",
      "2297/2297 [==============================] - 59s 25ms/step - loss: 0.3103 - accuracy: 0.3166 - top_k_categorical_accuracy: 0.4413 - val_loss: 0.3091 - val_accuracy: 0.3004 - val_top_k_categorical_accuracy: 0.4149 - lr: 1.0000e-05\n",
      "Epoch 19/30\n",
      "2297/2297 [==============================] - 59s 25ms/step - loss: 0.3088 - accuracy: 0.3190 - top_k_categorical_accuracy: 0.4460 - val_loss: 0.3121 - val_accuracy: 0.2987 - val_top_k_categorical_accuracy: 0.4007 - lr: 1.0000e-05\n",
      "Epoch 20/30\n",
      "2297/2297 [==============================] - 59s 26ms/step - loss: 0.3073 - accuracy: 0.3233 - top_k_categorical_accuracy: 0.4475 - val_loss: 0.3067 - val_accuracy: 0.3068 - val_top_k_categorical_accuracy: 0.4194 - lr: 1.0000e-05\n",
      "Epoch 21/30\n",
      "2297/2297 [==============================] - 60s 26ms/step - loss: 0.3059 - accuracy: 0.3264 - top_k_categorical_accuracy: 0.4506 - val_loss: 0.3062 - val_accuracy: 0.3177 - val_top_k_categorical_accuracy: 0.4345 - lr: 1.0000e-05\n",
      "Epoch 22/30\n",
      "2297/2297 [==============================] - 59s 26ms/step - loss: 0.3049 - accuracy: 0.3281 - top_k_categorical_accuracy: 0.4509 - val_loss: 0.3042 - val_accuracy: 0.3097 - val_top_k_categorical_accuracy: 0.4195 - lr: 1.0000e-05\n",
      "Epoch 23/30\n",
      "2297/2297 [==============================] - 58s 25ms/step - loss: 0.3033 - accuracy: 0.3322 - top_k_categorical_accuracy: 0.4558 - val_loss: 0.3025 - val_accuracy: 0.3164 - val_top_k_categorical_accuracy: 0.4294 - lr: 1.0000e-05\n",
      "Epoch 24/30\n",
      "2297/2297 [==============================] - 59s 26ms/step - loss: 0.3018 - accuracy: 0.3364 - top_k_categorical_accuracy: 0.4586 - val_loss: 0.2994 - val_accuracy: 0.3216 - val_top_k_categorical_accuracy: 0.4435 - lr: 1.0000e-05\n",
      "Epoch 25/30\n",
      "2297/2297 [==============================] - 59s 26ms/step - loss: 0.3004 - accuracy: 0.3376 - top_k_categorical_accuracy: 0.4628 - val_loss: 0.2993 - val_accuracy: 0.3247 - val_top_k_categorical_accuracy: 0.4454 - lr: 1.0000e-05\n",
      "Epoch 26/30\n",
      "2297/2297 [==============================] - 60s 26ms/step - loss: 0.2992 - accuracy: 0.3414 - top_k_categorical_accuracy: 0.4660 - val_loss: 0.2992 - val_accuracy: 0.3157 - val_top_k_categorical_accuracy: 0.4397 - lr: 1.0000e-05\n",
      "Epoch 27/30\n",
      "2297/2297 [==============================] - 59s 25ms/step - loss: 0.2980 - accuracy: 0.3434 - top_k_categorical_accuracy: 0.4681 - val_loss: 0.2999 - val_accuracy: 0.3306 - val_top_k_categorical_accuracy: 0.4502 - lr: 1.0000e-05\n",
      "Epoch 28/30\n",
      "2297/2297 [==============================] - 59s 25ms/step - loss: 0.2967 - accuracy: 0.3467 - top_k_categorical_accuracy: 0.4709 - val_loss: 0.3041 - val_accuracy: 0.3099 - val_top_k_categorical_accuracy: 0.4370 - lr: 1.0000e-05\n",
      "Epoch 29/30\n",
      "2297/2297 [==============================] - 59s 25ms/step - loss: 0.2953 - accuracy: 0.3495 - top_k_categorical_accuracy: 0.4754 - val_loss: 0.3001 - val_accuracy: 0.3086 - val_top_k_categorical_accuracy: 0.4350 - lr: 1.0000e-05\n",
      "Epoch 30/30\n",
      "2297/2297 [==============================] - 58s 25ms/step - loss: 0.2938 - accuracy: 0.3509 - top_k_categorical_accuracy: 0.4777 - val_loss: 0.2956 - val_accuracy: 0.3252 - val_top_k_categorical_accuracy: 0.4507 - lr: 1.0000e-05\n"
     ]
    }
   ],
   "source": [
    "# Unfreeze some layers of the base model\n",
    "base_model.trainable = True\n",
    "\n",
    "# Recompile with a lower learning rate\n",
    "model.compile(optimizer=Adam(learning_rate=1e-5), \n",
    "              loss='binary_crossentropy', \n",
    "              metrics=['accuracy',tf.keras.metrics.TopKCategoricalAccuracy(k=2)])\n",
    "\n",
    "# Fine-tune the model\n",
    "history = model.fit(\n",
    "    X_train, y_train,\n",
    "    validation_data=(X_test, y_test),\n",
    "    epochs=30,  # Fewer epochs for fine-tuning\n",
    "    callbacks=[reduce_lr, early_stop]\n",
    ")"
   ]
  },
  {
   "cell_type": "code",
   "execution_count": 20,
   "id": "2a37df83-cedc-47ba-ad87-db78b3313185",
   "metadata": {
    "tags": []
   },
   "outputs": [],
   "source": [
    "model.save('64_transfer_full_50_30_epoch.keras')"
   ]
  },
  {
   "cell_type": "code",
   "execution_count": 5,
   "id": "31def3c6-1a56-4e15-b6a5-a7c32012b2ae",
   "metadata": {
    "tags": []
   },
   "outputs": [
    {
     "name": "stderr",
     "output_type": "stream",
     "text": [
      "2024-12-04 15:55:34.195128: I tensorflow/core/platform/cpu_feature_guard.cc:151] This TensorFlow binary is optimized with oneAPI Deep Neural Network Library (oneDNN) to use the following CPU instructions in performance-critical operations:  SSE4.1 SSE4.2 AVX AVX2 FMA\n",
      "To enable them in other operations, rebuild TensorFlow with the appropriate compiler flags.\n",
      "2024-12-04 15:55:34.982108: I tensorflow/core/common_runtime/gpu/gpu_device.cc:1525] Created device /job:localhost/replica:0/task:0/device:GPU:0 with 78902 MB memory:  -> device: 0, name: NVIDIA A100-SXM4-80GB, pci bus id: 0000:07:00.0, compute capability: 8.0\n"
     ]
    }
   ],
   "source": [
    "from keras.models import load_model\n",
    "\n",
    "model = load_model(\"64_transfer_full_50_30_epoch.keras\")"
   ]
  },
  {
   "cell_type": "code",
   "execution_count": 6,
   "id": "5fbb1e32-3d0e-46ab-ad51-d37494e20f92",
   "metadata": {
    "tags": []
   },
   "outputs": [
    {
     "name": "stdout",
     "output_type": "stream",
     "text": [
      "{'Type': 'dark, fairy', 'Name': 'Zoroark/Gardevoir', 'Body': '338', 'Head': '287'}\n"
     ]
    }
   ],
   "source": [
    "import csv\n",
    "\n",
    "file_path = \"image_tagging/all_pokemon_to_type.csv\"\n",
    "pokedex = {}\n",
    "\n",
    "with open(file_path, mode='r') as file:\n",
    "    csv_reader = csv.DictReader(file)\n",
    "    for row in csv_reader:\n",
    "        key = row['Key']\n",
    "        value = {col: row[col] for col in row if col != 'Key'}\n",
    "        pokedex[key] = value\n",
    "\n",
    "print(pokedex[\"338.287i\"])"
   ]
  },
  {
   "cell_type": "code",
   "execution_count": 7,
   "id": "31b04e47-c6d3-4d58-b1ab-368ee792a55f",
   "metadata": {
    "tags": []
   },
   "outputs": [
    {
     "ename": "NameError",
     "evalue": "name 'TRAINING_DATASET' is not defined",
     "output_type": "error",
     "traceback": [
      "\u001b[0;31m---------------------------------------------------------------------------\u001b[0m",
      "\u001b[0;31mNameError\u001b[0m                                 Traceback (most recent call last)",
      "Input \u001b[0;32mIn [7]\u001b[0m, in \u001b[0;36m<cell line: 16>\u001b[0;34m()\u001b[0m\n\u001b[1;32m     13\u001b[0m axes \u001b[38;5;241m=\u001b[39m axes\u001b[38;5;241m.\u001b[39mflatten()\n\u001b[1;32m     15\u001b[0m \u001b[38;5;66;03m# Iterate through the dataset\u001b[39;00m\n\u001b[0;32m---> 16\u001b[0m \u001b[38;5;28;01mfor\u001b[39;00m idx, file_name \u001b[38;5;129;01min\u001b[39;00m \u001b[38;5;28menumerate\u001b[39m(os\u001b[38;5;241m.\u001b[39mlistdir(\u001b[43mTRAINING_DATASET\u001b[49m)):\n\u001b[1;32m     17\u001b[0m     \u001b[38;5;28;01mif\u001b[39;00m count \u001b[38;5;241m>\u001b[39m\u001b[38;5;241m=\u001b[39m GRID_SIZE \u001b[38;5;241m*\u001b[39m GRID_SIZE:  \u001b[38;5;66;03m# Limit to 64 images\u001b[39;00m\n\u001b[1;32m     18\u001b[0m         \u001b[38;5;28;01mbreak\u001b[39;00m\n",
      "\u001b[0;31mNameError\u001b[0m: name 'TRAINING_DATASET' is not defined"
     ]
    },
    {
     "data": {
      "image/png": "[encoded data removed]",
      "text/plain": [
       "<Figure size 864x864 with 64 Axes>"
      ]
     },
     "metadata": {
      "needs_background": "light"
     },
     "output_type": "display_data"
    }
   ],
   "source": [
    "import os\n",
    "import numpy as np\n",
    "import matplotlib.pyplot as plt\n",
    "from tensorflow.keras.preprocessing import image\n",
    "\n",
    "# Constants\n",
    "GRID_SIZE = 8  # 8x8 grid\n",
    "OUTPUT_FILE = \"predictions_grid_4.png\"  # Output file name\n",
    "\n",
    "# Variables\n",
    "count = 0\n",
    "fig, axes = plt.subplots(GRID_SIZE, GRID_SIZE, figsize=(12, 12))\n",
    "axes = axes.flatten()\n",
    "\n",
    "# Iterate through the dataset\n",
    "for idx, file_name in enumerate(os.listdir(TRAINING_DATASET)):\n",
    "    if count >= GRID_SIZE * GRID_SIZE:  # Limit to 64 images\n",
    "        break\n",
    "    \n",
    "    # Load and preprocess the image\n",
    "    img_path = os.path.join(TRAINING_DATASET, file_name)\n",
    "    img = image.load_img(img_path, target_size=IMAGE_SIZE)\n",
    "    img_array = image.img_to_array(img) / 255.0  # Normalize\n",
    "    classes = np.array(train.columns[2:])\n",
    "    \n",
    "    # Make predictions\n",
    "    proba = model.predict(img_array.reshape(1,64,64,3))\n",
    "    top_2 = np.argsort(proba[0])[:-3:-1]  # Get top 2 predictions\n",
    "    top_2_predictions = [f\"{classes[i]} ({proba[0][i]:.2f})\" for i in top_2]\n",
    "    \n",
    "    # Get ground truth\n",
    "    ground_truth = pokedex[file_name[:-4]][\"Type\"]\n",
    "    \n",
    "    # Plot image in grid\n",
    "    axes[idx].imshow(image.load_img(img_path,target_size=(256,256,3)))\n",
    "    axes[idx].axis('off')  # Turn off axis\n",
    "    axes[idx].set_title(f\"P: {', '.join(top_2_predictions)}\\nA: {ground_truth}\", fontsize=6)\n",
    "    \n",
    "    count += 1\n",
    "\n",
    "# Adjust layout and save the grid\n",
    "plt.tight_layout()\n",
    "plt.savefig(OUTPUT_FILE, dpi=300)\n",
    "plt.show()"
   ]
  },
  {
   "cell_type": "code",
   "execution_count": null,
   "id": "c85d8223-c323-4c41-933c-2f4e90fcfb8e",
   "metadata": {},
   "outputs": [],
   "source": []
  }
 ],
 "metadata": {
  "kernelspec": {
   "display_name": "type_prediction",
   "language": "python",
   "name": "type_prediction"
  },
  "language_info": {
   "codemirror_mode": {
    "name": "ipython",
    "version": 3
   },
   "file_extension": ".py",
   "mimetype": "text/x-python",
   "name": "python",
   "nbconvert_exporter": "python",
   "pygments_lexer": "ipython3",
   "version": "3.9.12"
  }
 },
 "nbformat": 4,
 "nbformat_minor": 5
}
