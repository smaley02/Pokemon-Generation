{
 "cells": [
  {
   "cell_type": "markdown",
   "id": "8cf3dc05-00f9-429a-9d5c-4c7912f0f09a",
   "metadata": {},
   "source": [
    "There are over 200,000 pokemon images, I would not want to webscrape as it could results in DoS attack on their site and i could get banned.\n",
    "There is a unique naming system with their sprites. I can use the unique fusiondex entries to determine the fusion and ultimately the type"
   ]
  },
  {
   "cell_type": "markdown",
   "id": "97f65e28-171a-4656-9959-e70f95ca904b",
   "metadata": {
    "tags": []
   },
   "source": [
    "# get name and type data"
   ]
  },
  {
   "cell_type": "code",
   "execution_count": 1,
   "id": "1f7e2a74-809a-4da2-b36e-99aedbd9fba3",
   "metadata": {
    "tags": []
   },
   "outputs": [],
   "source": [
    "types = set()\n",
    "\n",
    "with open('types.txt', 'r') as file:\n",
    "    for line in file:\n",
    "        types.add(line.strip().lower())"
   ]
  },
  {
   "cell_type": "code",
   "execution_count": 2,
   "id": "f0270d6c-863a-4d31-9a6a-1ae7942d9252",
   "metadata": {
    "tags": []
   },
   "outputs": [],
   "source": [
    "\"\"\"\n",
    "Pokemon: 1\n",
    "Bulbasaur\n",
    "grasspoison\n",
    "417/470\n",
    " \n",
    "(88%)\n",
    "444/470\n",
    "\"\"\"\n",
    "\n",
    "pokedex = {}\n",
    "\n",
    "count = 1\n",
    "with open('raw_dex_entries.txt', 'r') as file:\n",
    "    data = file.read().split(\"\\n\")\n",
    "    i = 0\n",
    "    while i < len(data):\n",
    "        line = data[i]\n",
    "        if line not in [\" \", \"\", \"\\n\"]:\n",
    "            tmp = line.split()\n",
    "            if tmp[0] == \"Pokemon:\":\n",
    "                dex_entry = {}\n",
    "                i += 1\n",
    "                dex_entry[\"name\"] = data[i]\n",
    "                i += 1\n",
    "                if data[i] in types: # get type data\n",
    "                    dex_entry[\"type\"] = [data[i]]\n",
    "                else:\n",
    "                    j = 0\n",
    "                    while j < len(data[i]): # get multitype\n",
    "                        if data[i][:j] in types:\n",
    "                            break\n",
    "                        j += 1\n",
    "                    dex_entry[\"type\"] = [data[i][:j], data[i][j:]]\n",
    "                pokedex[tmp[1]] = dex_entry      \n",
    "        i += 1"
   ]
  },
  {
   "cell_type": "code",
   "execution_count": 3,
   "id": "42050757-bd91-47d4-99c7-fd501cc90ab5",
   "metadata": {},
   "outputs": [
    {
     "data": {
      "text/plain": [
       "{'name': 'Parasect', 'type': ['bug', 'grass']}"
      ]
     },
     "execution_count": 3,
     "metadata": {},
     "output_type": "execute_result"
    }
   ],
   "source": [
    "pokedex[\"47\"] # from [1-470]"
   ]
  },
  {
   "cell_type": "code",
   "execution_count": 4,
   "id": "fd0f9c66-add8-4787-92f0-06f9dee2e634",
   "metadata": {},
   "outputs": [],
   "source": [
    "import os\n",
    "import re\n",
    "\n",
    "directory_path = '/blue/rcstudents/smaley/pokegan/customsprites/blk_bg/input'\n",
    "# only up to number 470 in this directory\n",
    "\n",
    "all_pokemon = {}\n",
    "count = 0\n",
    "\n",
    "for filename in os.listdir(directory_path):\n",
    "    file_path = os.path.join(directory_path, filename)\n",
    "    if os.path.isfile(file_path):\n",
    "        count += 1\n",
    "        pokemon = {}\n",
    "        \n",
    "        file_name = os.path.basename(file_path).split(\".\")\n",
    "        body, head = file_name[0], file_name[1]\n",
    "        \n",
    "        poke_id = \"\"\n",
    "        if head != \"png\": # if a fusion\n",
    "            poke_id = body + \".\" + head\n",
    "            pokemon[\"body\"] = re.sub(r'[a-zA-Z]', '', body)\n",
    "            pokemon[\"head\"] = re.sub(r'[a-zA-Z]', '', head)\n",
    "        else:\n",
    "            poke_id = body\n",
    "            pokemon[\"body\"] = body\n",
    "            pokemon[\"head\"] = None\n",
    "        all_pokemon[poke_id] = pokemon"
   ]
  },
  {
   "cell_type": "code",
   "execution_count": 5,
   "id": "b4660683-7e3e-487d-8833-5783b93c8fc5",
   "metadata": {
    "tags": []
   },
   "outputs": [
    {
     "data": {
      "text/plain": [
       "116643"
      ]
     },
     "execution_count": 5,
     "metadata": {},
     "output_type": "execute_result"
    }
   ],
   "source": [
    "count"
   ]
  },
  {
   "cell_type": "code",
   "execution_count": 6,
   "id": "b059f02e-95ae-4d46-9ed0-103f83c66066",
   "metadata": {
    "tags": []
   },
   "outputs": [],
   "source": [
    "# tag all_pokemon with actual type"
   ]
  },
  {
   "cell_type": "code",
   "execution_count": 7,
   "id": "2ef5cbee-11dd-4ede-9d7d-ab649ad46973",
   "metadata": {
    "tags": []
   },
   "outputs": [],
   "source": [
    "all_pokemon_to_type = {}\n",
    "\n",
    "for pokedex_id in all_pokemon:\n",
    "    body = all_pokemon[pokedex_id][\"body\"]\n",
    "    head = all_pokemon[pokedex_id][\"head\"]\n",
    "    \n",
    "    entry = {}\n",
    "    name = pokedex[body][\"name\"]\n",
    "    \n",
    "    body_type = pokedex[body][\"type\"][0]\n",
    "    head_type = None\n",
    "    \n",
    "    entry[\"type\"] = [body_type]\n",
    "    if head:\n",
    "        name += \"/\" + pokedex[head][\"name\"]\n",
    "        head_types = pokedex[head][\"type\"]\n",
    "        if len(head_types) > 1 and head_types[1] not in entry[\"type\"]:\n",
    "            entry[\"type\"].append(head_types[1])\n",
    "        elif head_types[0] not in entry[\"type\"]:\n",
    "            entry[\"type\"].append(head_types[0])\n",
    "    \n",
    "    entry[\"name\"] = name\n",
    "    entry[\"body\"] = body\n",
    "    entry[\"head\"] = head\n",
    "    all_pokemon_to_type[pokedex_id] = entry"
   ]
  },
  {
   "cell_type": "code",
   "execution_count": 8,
   "id": "ea0e3eae-61b9-4076-92e1-e9829b0aa791",
   "metadata": {
    "tags": []
   },
   "outputs": [],
   "source": [
    "import csv\n",
    "\n",
    "with open(\"all_pokemon_to_type.csv\", mode='w', newline='') as csvfile:\n",
    "    writer = csv.writer(csvfile)\n",
    "    writer.writerow(['Key', 'Type', 'Name', 'Body', 'Head'])\n",
    "    for key, value in all_pokemon_to_type.items():\n",
    "        writer.writerow([key, ', '.join(value['type']), value['name'], value['body'], value['head']])"
   ]
  },
  {
   "cell_type": "markdown",
   "id": "eabda6a1-4dbc-4cc5-b907-898dd33cda62",
   "metadata": {
    "tags": []
   },
   "source": [
    "# get dataset metrics"
   ]
  },
  {
   "cell_type": "code",
   "execution_count": 9,
   "id": "1f1ee9ee-8e3b-46ce-bbe5-1d1e95ebf613",
   "metadata": {
    "tags": []
   },
   "outputs": [],
   "source": [
    "type_count = {}\n",
    "\n",
    "for pokedex_id in all_pokemon_to_type:\n",
    "    for poke_type in all_pokemon_to_type[pokedex_id][\"type\"]:\n",
    "        if poke_type in type_count:\n",
    "            type_count[poke_type] += 1\n",
    "        else:\n",
    "            type_count[poke_type] = 1"
   ]
  },
  {
   "cell_type": "code",
   "execution_count": 10,
   "id": "1f2be4be-3ea1-4da2-adb8-f8b499d03dd8",
   "metadata": {
    "tags": []
   },
   "outputs": [
    {
     "data": {
      "text/plain": [
       "{'poison': 13883,\n",
       " 'ground': 14034,\n",
       " 'dark': 8369,\n",
       " 'ice': 5197,\n",
       " 'grass': 14706,\n",
       " 'psychic': 16481,\n",
       " 'fairy': 10039,\n",
       " 'water': 22315,\n",
       " 'normal': 24675,\n",
       " 'electric': 11921,\n",
       " 'flying': 12897,\n",
       " 'dragon': 9447,\n",
       " 'ghost': 13543,\n",
       " 'steel': 9591,\n",
       " 'fighting': 7631,\n",
       " 'rock': 9132,\n",
       " 'bug': 10252,\n",
       " 'fire': 13140}"
      ]
     },
     "execution_count": 10,
     "metadata": {},
     "output_type": "execute_result"
    }
   ],
   "source": [
    "type_count"
   ]
  },
  {
   "cell_type": "code",
   "execution_count": 11,
   "id": "efbc24d7-d504-4713-a0f1-68947d9565c3",
   "metadata": {
    "tags": []
   },
   "outputs": [
    {
     "data": {
      "image/png": "[encoded data removed]",
      "text/plain": [
       "<Figure size 1200x600 with 1 Axes>"
      ]
     },
     "metadata": {},
     "output_type": "display_data"
    }
   ],
   "source": [
    "import matplotlib.pyplot as plt\n",
    "\n",
    "sorted_data = dict(sorted(type_count.items(), key=lambda item: item[1], reverse=True))\n",
    "\n",
    "plt.figure(figsize=(12, 6))\n",
    "plt.bar(sorted_data.keys(), sorted_data.values(), color='skyblue')\n",
    "\n",
    "plt.xlabel('Types')\n",
    "plt.ylabel('Values')\n",
    "plt.title('Graph of Pokémon Types and Values')\n",
    "plt.xticks(rotation=45, ha='right')\n",
    "plt.tight_layout()\n",
    "plt.show()"
   ]
  },
  {
   "cell_type": "markdown",
   "id": "0e41e7e3-c7a9-412b-84eb-7d358a6d9def",
   "metadata": {
    "tags": []
   },
   "source": [
    "# split train, test, val"
   ]
  },
  {
   "cell_type": "code",
   "execution_count": 12,
   "id": "eef6bf5a-024f-4480-b1dc-0ca18c5fcc1b",
   "metadata": {},
   "outputs": [],
   "source": [
    "import pandas as pd\n",
    "\n",
    "df = pd.read_csv('all_pokemon_to_type.csv')\n",
    "df.drop('Body', axis=1, inplace=True)\n",
    "df.drop('Head', axis=1, inplace=True)"
   ]
  },
  {
   "cell_type": "code",
   "execution_count": 13,
   "id": "58b8475f-173e-4859-b31a-52d60b7c43b3",
   "metadata": {
    "tags": []
   },
   "outputs": [],
   "source": [
    "types = []\n",
    "with open('types.txt', 'r') as file:\n",
    "    for line in file:\n",
    "        types.append(line.strip().lower())\n",
    "for col in types:\n",
    "    df[col] = 0"
   ]
  },
  {
   "cell_type": "code",
   "execution_count": 14,
   "id": "d098143c-fe4c-46ec-acba-d6837ef5ec29",
   "metadata": {
    "tags": []
   },
   "outputs": [],
   "source": [
    "for idx, row in df.iterrows():\n",
    "    types = row['Type'].split(', ')\n",
    "    for type_ in types:\n",
    "        if type_ in df.columns:\n",
    "            df.at[idx, type_] = 1"
   ]
  },
  {
   "cell_type": "code",
   "execution_count": 15,
   "id": "775f0b3e-a727-4a69-b639-d67a303bde0b",
   "metadata": {
    "tags": []
   },
   "outputs": [],
   "source": [
    "train_df = df.sample(frac=0.7)\n",
    "test_df = df.loc[~df.index.isin(train_df.index)]"
   ]
  },
  {
   "cell_type": "code",
   "execution_count": 16,
   "id": "3dd0c18e-549f-4d1e-8878-f584fb548d20",
   "metadata": {
    "tags": []
   },
   "outputs": [],
   "source": [
    "train_df.to_csv('train.csv', index=False)"
   ]
  },
  {
   "cell_type": "code",
   "execution_count": 17,
   "id": "38b232f4-2af2-4218-8f4b-bf968c5560ca",
   "metadata": {
    "tags": []
   },
   "outputs": [],
   "source": [
    "test_df.to_csv('test.csv', index=False)"
   ]
  },
  {
   "cell_type": "code",
   "execution_count": 18,
   "id": "edc5c5b2-1d3e-4b65-bb6e-4fad4b074e0b",
   "metadata": {},
   "outputs": [],
   "source": [
    "common_keys = set(train_df['Key']).intersection(set(test_df['Key']))"
   ]
  },
  {
   "cell_type": "code",
   "execution_count": 19,
   "id": "2e8db707-51e4-43f1-805c-54b34666baf3",
   "metadata": {
    "tags": []
   },
   "outputs": [
    {
     "data": {
      "text/plain": [
       "set()"
      ]
     },
     "execution_count": 19,
     "metadata": {},
     "output_type": "execute_result"
    }
   ],
   "source": [
    "common_keys # no common keys"
   ]
  },
  {
   "cell_type": "code",
   "execution_count": null,
   "id": "269542c1-bb07-4a2a-8245-b855be933cdf",
   "metadata": {},
   "outputs": [],
   "source": []
  }
 ],
 "metadata": {
  "kernelspec": {
   "display_name": "Python 3 (ipykernel)",
   "language": "python",
   "name": "python3"
  },
  "language_info": {
   "codemirror_mode": {
    "name": "ipython",
    "version": 3
   },
   "file_extension": ".py",
   "mimetype": "text/x-python",
   "name": "python",
   "nbconvert_exporter": "python",
   "pygments_lexer": "ipython3",
   "version": "3.10.12"
  }
 },
 "nbformat": 4,
 "nbformat_minor": 5
}
