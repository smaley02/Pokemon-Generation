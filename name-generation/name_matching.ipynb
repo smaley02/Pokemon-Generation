{
 "cells": [
  {
   "cell_type": "code",
   "execution_count": 1,
   "id": "b53432b9-cbfa-4b00-bf5c-694365498a50",
   "metadata": {},
   "outputs": [],
   "source": [
    "names_path = \"/blue/rcstudents/smaley/pokegan/name-generation/rnn/output/pokemon+5_perc_digimon_2000_generated_names.txt\"\n",
    "images_path = \"/blue/rcstudents/smaley/pokegan/improved-diffusion/log_256/images_1710000_900/\""
   ]
  },
  {
   "cell_type": "code",
   "execution_count": 2,
   "id": "c8c39322-b098-457e-a100-2262da0a5b71",
   "metadata": {
    "tags": []
   },
   "outputs": [
    {
     "name": "stdout",
     "output_type": "stream",
     "text": [
      "1784\n",
      "900\n"
     ]
    }
   ],
   "source": [
    "import os\n",
    "\n",
    "filenames = os.listdir(images_path)\n",
    "\n",
    "with open(names_path, 'r') as file:\n",
    "    lines = file.readlines()\n",
    "lines = list(set(lines)) # keep unique\n",
    "    \n",
    "file_line_map = {}\n",
    "\n",
    "for i, filename in enumerate(filenames):\n",
    "    file_line_map[filename] = lines[i].strip()  # Remove newline characters from the lines\n",
    "\n",
    "print(len(lines))\n",
    "print(len(filenames))"
   ]
  },
  {
   "cell_type": "code",
   "execution_count": 3,
   "id": "b58d124b-51a7-48a8-ac40-2213d130d5b3",
   "metadata": {
    "tags": []
   },
   "outputs": [],
   "source": [
    "import json\n",
    "\n",
    "with open(\"name_matching.json\", \"w\") as f:\n",
    "    json.dump(file_line_map, f)"
   ]
  },
  {
   "cell_type": "code",
   "execution_count": 6,
   "id": "a6c3b943-52dd-4b73-8efe-bd47bbf84185",
   "metadata": {
    "tags": []
   },
   "outputs": [
    {
     "data": {
      "text/plain": [
       "'Retinat'"
      ]
     },
     "execution_count": 6,
     "metadata": {},
     "output_type": "execute_result"
    }
   ],
   "source": [
    "file_line_map[\"sample_0_1710000.png\"]"
   ]
  },
  {
   "cell_type": "code",
   "execution_count": null,
   "id": "1e7725eb-2edc-4a1b-acc1-c6cbab52cacf",
   "metadata": {},
   "outputs": [],
   "source": []
  }
 ],
 "metadata": {
  "kernelspec": {
   "display_name": "Python 3 (ipykernel)",
   "language": "python",
   "name": "python3"
  },
  "language_info": {
   "codemirror_mode": {
    "name": "ipython",
    "version": 3
   },
   "file_extension": ".py",
   "mimetype": "text/x-python",
   "name": "python",
   "nbconvert_exporter": "python",
   "pygments_lexer": "ipython3",
   "version": "3.10.12"
  }
 },
 "nbformat": 4,
 "nbformat_minor": 5
}
